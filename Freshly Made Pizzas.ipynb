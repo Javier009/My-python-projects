{
 "cells": [
  {
   "cell_type": "markdown",
   "metadata": {},
   "source": [
    "### Freshly Made Pizzas.  Level: Very hard\n",
    "https://edabit.com/challenge/7FyTyi68Df2CxLx6C\n",
    "\n",
    "Create a Pizza class with the attributes order_number and ingredients (which is given as a list). Only the ingredients will be given as input.\n",
    "\n",
    "You should also make it so that its possible to choose a ready made pizza flavour rather than typing out the ingredients manually! As well as creating this Pizza class, hard-code the following pizza flavours.\n",
    "\n",
    "Name\t    Ingredients\n",
    "\n",
    "hawaiian\tham, pineapple\n",
    "\n",
    "meat_festival\tbeef, meatball, bacon\n",
    "\n",
    "garden_feast\tspinach, olives, mushroom\n",
    "\n",
    "Examples\n",
    "\n",
    "p1 = Pizza([\"bacon\", \"parmesan\", \"ham\"])    # order 1\n",
    "\n",
    "p2 = Pizza.garden_feast()                  # order 2\n",
    "\n",
    "p1.ingredients ➞ [\"bacon\", \"parmesan\", \"ham\"]\n",
    "\n",
    "p2.ingredients ➞ [\"spinach\", \"olives\", \"mushroom\"]\n",
    "\n",
    "p1.order_number ➞ 1\n",
    "\n",
    "p2.order_number ➞ 2\n"
   ]
  },
  {
   "cell_type": "code",
   "execution_count": 74,
   "metadata": {},
   "outputs": [],
   "source": [
    "orders = [0]\n",
    "\n",
    "class Pizza():\n",
    "        \n",
    "    def __init__(self, ingredients =None):\n",
    "        \n",
    "        self.ingredients = ingredients\n",
    "        \n",
    "        if type(self.ingredients) == list:\n",
    "            self.ingredients = ingredients\n",
    "            \n",
    "        elif type(self.ingredients) == str:\n",
    "            if self.ingredients == 'hawaiian':\n",
    "                self.ingredients = ['ham', 'pineapple']\n",
    "                \n",
    "            elif self.ingredients == 'garden feast':\n",
    "                self.ingredients = ['spinach', 'olives', 'mushroom']\n",
    "            \n",
    "            elif self.ingredients == 'meat festival':\n",
    "                self.ingredients = ['beef','meatball', 'bacon']\n",
    "                \n",
    "        else:\n",
    "            self.ingredients = \"Juuuuuust cheese\"\n",
    "  \n",
    "        self.order = max(orders) + 1\n",
    "        orders.append(self.order)\n",
    "        \n",
    "        "
   ]
  },
  {
   "cell_type": "code",
   "execution_count": 75,
   "metadata": {},
   "outputs": [
    {
     "name": "stdout",
     "output_type": "stream",
     "text": [
      "['cheese', 'vegies', 'bread']\n",
      "1\n"
     ]
    }
   ],
   "source": [
    "p1 = Pizza(['cheese','vegies','bread'])\n",
    "print(p1.ingredients)\n",
    "print(p1.order)"
   ]
  },
  {
   "cell_type": "code",
   "execution_count": 76,
   "metadata": {},
   "outputs": [
    {
     "name": "stdout",
     "output_type": "stream",
     "text": [
      "Juuuuuust cheese\n",
      "2\n"
     ]
    }
   ],
   "source": [
    "p2 = Pizza()\n",
    "print(p2.ingredients)\n",
    "print(p2.order)"
   ]
  },
  {
   "cell_type": "code",
   "execution_count": 77,
   "metadata": {},
   "outputs": [
    {
     "name": "stdout",
     "output_type": "stream",
     "text": [
      "['beef', 'meatball', 'bacon']\n",
      "3\n"
     ]
    }
   ],
   "source": [
    "p2 = Pizza('meat festival')\n",
    "print(p2.ingredients)\n",
    "print(p2.order)"
   ]
  }
 ],
 "metadata": {
  "kernelspec": {
   "display_name": "Python 3",
   "language": "python",
   "name": "python3"
  },
  "language_info": {
   "codemirror_mode": {
    "name": "ipython",
    "version": 3
   },
   "file_extension": ".py",
   "mimetype": "text/x-python",
   "name": "python",
   "nbconvert_exporter": "python",
   "pygments_lexer": "ipython3",
   "version": "3.7.4"
  }
 },
 "nbformat": 4,
 "nbformat_minor": 4
}
