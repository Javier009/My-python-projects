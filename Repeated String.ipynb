{
 "cells": [
  {
   "cell_type": "raw",
   "metadata": {},
   "source": [
    "Repeated Sub-String Pattern\n",
    "Create a solution that checks if a given string consists of a sub-string pattern repeated multiple times to return True or False.\n",
    "\n",
    "Examples\n",
    "repeated(\"a\") ➞ False\n",
    "\n",
    "repeated(\"ababab\") ➞ True\n",
    "\n",
    "repeated(\"aba\") ➞ False\n",
    "\n",
    "repeated(\"abcabcabcabc\") ➞ True\n",
    "\n",
    "repeated(\"aaxxtaaxztaaxxt\") ➞ False\n",
    "\n",
    "link: https://edabit.com/challenge/L2nw2N2YqZCboiaYM"
   ]
  },
  {
   "cell_type": "code",
   "execution_count": 40,
   "metadata": {},
   "outputs": [],
   "source": [
    "def repeated(string):\n",
    "    iterations = []\n",
    "    for i in range(1,len(string)+1):\n",
    "        num = len(string)\n",
    "        if num % i == 0 and i != num:\n",
    "            iterations.append(i)\n",
    "        else:\n",
    "            pass\n",
    "    for n in iterations:\n",
    "        patterns = set([string[i:i+n] for i in range(0, len(string), n)])\n",
    "        if len(patterns) == 1:\n",
    "            return True\n",
    "            break\n",
    "        elif iterations.index(n)+1 == len(iterations):\n",
    "            return False"
   ]
  },
  {
   "cell_type": "code",
   "execution_count": 43,
   "metadata": {},
   "outputs": [
    {
     "name": "stdout",
     "output_type": "stream",
     "text": [
      "True\n",
      "False\n",
      "True\n"
     ]
    }
   ],
   "source": [
    "a = 'agagagagagagagagag'\n",
    "b = 'lqjwdfnqñowcenwelfvn'\n",
    "c = 'eeeeeeeeeeee'\n",
    "\n",
    "print(repeated(a))\n",
    "print(repeated(b))\n",
    "print(repeated(c))"
   ]
  }
 ],
 "metadata": {
  "kernelspec": {
   "display_name": "Python 3",
   "language": "python",
   "name": "python3"
  },
  "language_info": {
   "codemirror_mode": {
    "name": "ipython",
    "version": 3
   },
   "file_extension": ".py",
   "mimetype": "text/x-python",
   "name": "python",
   "nbconvert_exporter": "python",
   "pygments_lexer": "ipython3",
   "version": "3.7.4"
  }
 },
 "nbformat": 4,
 "nbformat_minor": 4
}
