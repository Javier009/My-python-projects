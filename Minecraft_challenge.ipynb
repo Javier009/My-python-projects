{
 "cells": [
  {
   "cell_type": "code",
   "execution_count": 1,
   "metadata": {},
   "outputs": [],
   "source": [
    "# Link: https://edabit.com/challenge/uHcc8Gg4jwSax5qd4\n",
    "#Ted works as a computer programmer at Minecraft Inc.\n",
    "#His boss has just given him an important assignment to update the code for the minecart tracks by the end of April. \n",
    "#However, he has recently had to self-isolate due to Corvid-19 and has left the code for the tracks BACK AT WORK!!\n",
    "#He has the shorthand for the tracks he's supposed to look at, and where the carts are suppost to end up, but not the actual code.\n",
    "\n",
    "#He knows that:\n",
    "\n",
    "#\"-->\" = \"Speed-Up Track\" ⁠— If a minecart interacts with this track, it's velocity increases by 2.67 BPS unless it's at its maximum speed of 8 BPS.\n",
    "#\"<-->\" = \"Powered Track\" ⁠— If a minecart interacts with this track, it's velocity remains the same.\n",
    "#\"<--\" = \"Slow-Down Track\" ⁠— If a minecart interacts with this track, it's velocity decreases by 2.67 BPS unless it's velocity equals 0, at which point it stops.\n",
    "#\"---\" = \"Unpowered Track\" ⁠— If a minecart interacts with this track, it's velocity decreases by 1 BPS unless it's velocity equals 0, at which point it stops.\n",
    "#Help Ted by writing a class for the tracks that interact with the provided Minecart class as shown above. \n",
    "#And then write a function that will take a list of the shorthand tracks and:\n",
    "\n",
    "#If the Minecart reaches the last peice of Track, return True.\n",
    "#Else return the index of the Track where the Minecart stops.\n",
    "\n",
    "#mine_run([\"-->\", \"-->\", \"-->\", \"<--\", \"<--\", \"<--\"]) ➞ True\n",
    "\n",
    "#mine_run([\"-->\", \"<--\", \"-->\", \"-->\", \"<-->\", \"---\"]) ➞ 1\n",
    "\n",
    "## LEVEL : VERY HARD"
   ]
  },
  {
   "cell_type": "code",
   "execution_count": 62,
   "metadata": {},
   "outputs": [],
   "source": [
    "class Game_moves():\n",
    "    \n",
    "    def __init__(self, character_name):\n",
    "        self.character_name = character_name\n",
    "        self.velocity = 0\n",
    "        print(f'Character {self.character_name} created')\n",
    "        \n",
    "    def speed_up_track(self):\n",
    "        \n",
    "        if self.velocity/1.0 == 8.01:\n",
    "            self.velocity = 8.01\n",
    "        elif self.velocity/1.0 > 5.34:\n",
    "            self.velocity = 8.01\n",
    "        else:\n",
    "            self.velocity += 2.67\n",
    "    \n",
    "    def powered_track(self):\n",
    "         self.velocity ==  self.velocity\n",
    "            \n",
    "    def slow_down_track(self):\n",
    "        \n",
    "        if self.velocity == 0:\n",
    "            self.velocity == 0\n",
    "        elif self.velocity < 2.67:\n",
    "            self.velocity == 0\n",
    "        else:\n",
    "            self.velocity -= 2.67\n",
    "    \n",
    "    def unpowered_track(self):\n",
    "        \n",
    "        if self.velocity/1.0 < 1.0:\n",
    "            self.velocity = self.velocity/1.0\n",
    "            self.velocity = self.velocity * 0\n",
    "        else:\n",
    "            self.velocity = round(self.velocity -1,2)\n",
    "              "
   ]
  },
  {
   "cell_type": "code",
   "execution_count": 63,
   "metadata": {},
   "outputs": [],
   "source": [
    "def calculate_track(char, list_of_tracks):\n",
    "    \n",
    "    exec('global velocity\\nvelocity = {0}.velocity'.format(char))\n",
    "    print(f'Initial velocity: {velocity}') \n",
    "        \n",
    "    while char:\n",
    "        \n",
    "        list_iterator = 0 \n",
    "        \n",
    "        for move in list_of_tracks:\n",
    "\n",
    "            if list_iterator == 0:\n",
    "\n",
    "                if move == \"-->\":\n",
    "                    exec(\"{0}.speed_up_track()\".format(char))\n",
    "                    exec('global velocity\\nvelocity = {0}.velocity'.format(char))\n",
    "                    print(\"velocity = {0}, move = {1}\".format(velocity, list_iterator+1))\n",
    "                    list_iterator += 1\n",
    "\n",
    "                elif move == \"<-->\":\n",
    "                    exec(\"{0}.powered_track()\".format(char))\n",
    "                    exec('global velocity\\nvelocity = {0}.velocity'.format(char))\n",
    "                    return f'The velocity is zero, stoped in position {list_iterator}'\n",
    "                    break\n",
    "\n",
    "                elif move == \"<--\":\n",
    "                    exec(\"{0}.slow_down_track()\".format(char))\n",
    "                    exec('global velocity\\nvelocity = {0}.velocity'.format(char))\n",
    "                    return f'The velocity is zero, stoped in position {list_iterator}'\n",
    "                    break\n",
    "\n",
    "                elif move == \"---\":\n",
    "                    exec(\"{0}.unpowered_track()\".format(char))\n",
    "                    exec('global velocity\\nvelocity = {0}.velocity'.format(char))\n",
    "                    return f'The velocity is zero, stoped in position {list_iterator}'\n",
    "                    break\n",
    "\n",
    "            else:\n",
    "                \n",
    "                def stats_message():\n",
    "                    print(\"velocity = {0}, move = {1}\".format(velocity, list_iterator+1))\n",
    "                \n",
    "                \n",
    "                if velocity > 0 and list_iterator+1 < len(list_of_tracks):\n",
    "                    \n",
    "                    if move == \"-->\":\n",
    "                        exec(\"{0}.speed_up_track()\".format(char))\n",
    "                        exec('global velocity\\nvelocity = {0}.velocity'.format(char))\n",
    "                        stats_message()\n",
    "                        list_iterator += 1\n",
    "\n",
    "                    elif move == \"<-->\":\n",
    "                        exec(\"{0}.powered_track()\".format(char))\n",
    "                        exec('global velocity\\nvelocity = {0}.velocity'.format(char))\n",
    "                        stats_message()\n",
    "                        list_iterator += 1\n",
    "\n",
    "                    elif move == \"<--\":\n",
    "                        exec(\"{0}.slow_down_track()\".format(char))\n",
    "                        exec('global velocity\\nvelocity = {0}.velocity'.format(char))\n",
    "                        stats_message()\n",
    "                        list_iterator += 1\n",
    "\n",
    "                    elif move == \"---\":\n",
    "                        exec(\"{0}.unpowered_track()\".format(char))\n",
    "                        exec('global velocity\\nvelocity = {0}.velocity'.format(char))\n",
    "                        stats_message()\n",
    "                        list_iterator += 1\n",
    "                        \n",
    "                elif velocity > 0 and list_iterator+1 == len(list_of_tracks):\n",
    "                    \n",
    "                    if move == \"-->\":\n",
    "                        exec(\"{0}.speed_up_track()\".format(char))\n",
    "                        exec('global velocity\\nvelocity = {0}.velocity'.format(char))\n",
    "                        stats_message()\n",
    "\n",
    "                    elif move == \"<-->\":\n",
    "                        exec(\"{0}.powered_track()\".format(char))\n",
    "                        exec('global velocity\\nvelocity = {0}.velocity'.format(char))\n",
    "                        stats_message()\n",
    "             \n",
    "                    elif move == \"<--\":\n",
    "                        exec(\"{0}.slow_down_track()\".format(char))\n",
    "                        exec('global velocity\\nvelocity = {0}.velocity'.format(char))\n",
    "                        stats_message()\n",
    "\n",
    "                    elif move == \"---\":\n",
    "                        exec(\"{0}.unpowered_track()\".format(char))\n",
    "                        exec('global velocity\\nvelocity = {0}.velocity'.format(char))\n",
    "                        stats_message()\n",
    "                        \n",
    "                    return (True , f'Track finishied with a final velocity of: {velocity}')\n",
    "                    break\n",
    "\n",
    "                else:\n",
    "                    return f'The velocity is zero, stoped in position {list_iterator-1}'\n",
    "                    break\n",
    "                \n",
    "                        \n",
    "                    "
   ]
  },
  {
   "cell_type": "code",
   "execution_count": 65,
   "metadata": {},
   "outputs": [
    {
     "name": "stdout",
     "output_type": "stream",
     "text": [
      "Character Sofia created\n"
     ]
    }
   ],
   "source": [
    "Sofia = Game_moves(\"Sofia\")"
   ]
  },
  {
   "cell_type": "code",
   "execution_count": 66,
   "metadata": {},
   "outputs": [
    {
     "name": "stdout",
     "output_type": "stream",
     "text": [
      "Initial velocity: 0\n",
      "velocity = 2.67, move = 1\n",
      "velocity = 2.67, move = 2\n",
      "velocity = 5.34, move = 3\n",
      "velocity = 4.34, move = 4\n",
      "velocity = 3.34, move = 5\n",
      "velocity = 2.34, move = 6\n",
      "velocity = 5.01, move = 7\n",
      "velocity = 7.68, move = 8\n"
     ]
    },
    {
     "data": {
      "text/plain": [
       "(True, 'Track finishied with a final velocity of: 7.68')"
      ]
     },
     "execution_count": 66,
     "metadata": {},
     "output_type": "execute_result"
    }
   ],
   "source": [
    "calculate_track(\"Sofia\", [\"-->\", \"<-->\",\"-->\",\"---\",\"---\",\"---\",\"-->\",\"-->\"])"
   ]
  },
  {
   "cell_type": "code",
   "execution_count": 67,
   "metadata": {},
   "outputs": [
    {
     "name": "stdout",
     "output_type": "stream",
     "text": [
      "Character Sofia created\n",
      "Initial velocity: 0\n",
      "velocity = 2.67, move = 1\n",
      "velocity = 2.67, move = 2\n",
      "velocity = 5.34, move = 3\n",
      "velocity = 4.34, move = 4\n",
      "velocity = 3.34, move = 5\n",
      "velocity = 2.34, move = 6\n",
      "velocity = 1.34, move = 7\n",
      "velocity = 0.34, move = 8\n",
      "velocity = 0.0, move = 9\n"
     ]
    },
    {
     "data": {
      "text/plain": [
       "'The velocity is zero, stoped in position 8'"
      ]
     },
     "execution_count": 67,
     "metadata": {},
     "output_type": "execute_result"
    }
   ],
   "source": [
    "Sofia = Game_moves(\"Sofia\")\n",
    "calculate_track(\"Sofia\", [\"-->\", \"<-->\",\"-->\",\"---\",\"---\",\"---\",\"---\",\"---\",\"---\",\"<--\",\"<--\"])"
   ]
  },
  {
   "cell_type": "code",
   "execution_count": 64,
   "metadata": {},
   "outputs": [
    {
     "name": "stdout",
     "output_type": "stream",
     "text": [
      "Character Javier created\n",
      "Initial velocity: 0\n",
      "velocity = 2.67, move = 1\n",
      "velocity = 2.67, move = 2\n",
      "velocity = 5.34, move = 3\n",
      "velocity = 4.34, move = 4\n",
      "velocity = 3.34, move = 5\n",
      "velocity = 2.34, move = 6\n",
      "velocity = 5.01, move = 7\n",
      "velocity = 7.68, move = 8\n"
     ]
    },
    {
     "data": {
      "text/plain": [
       "(True, 'Track finishied with a final velocity of: 7.68')"
      ]
     },
     "execution_count": 64,
     "metadata": {},
     "output_type": "execute_result"
    }
   ],
   "source": [
    "Javier = Game_moves(\"Javier\")\n",
    "calculate_track(\"Javier\", [\"-->\", \"<-->\",\"-->\",\"---\",\"---\",\"---\",\"-->\",\"-->\"])"
   ]
  },
  {
   "cell_type": "code",
   "execution_count": 46,
   "metadata": {},
   "outputs": [
    {
     "name": "stdout",
     "output_type": "stream",
     "text": [
      "Character Javier created\n",
      "Initial velocity: 0\n",
      "velocity = 2.67, move = 1\n",
      "velocity = 5.34, move = 2\n",
      "velocity = 8.01, move = 3\n",
      "velocity = 8.01, move = 4\n",
      "velocity = 8.01, move = 5\n",
      "velocity = 5.34, move = 6\n",
      "velocity = 2.67, move = 7\n",
      "velocity = 0.0, move = 8\n"
     ]
    },
    {
     "data": {
      "text/plain": [
       "'The velocity is zero, stoped in position 7'"
      ]
     },
     "execution_count": 46,
     "metadata": {},
     "output_type": "execute_result"
    }
   ],
   "source": [
    "Javier = Game_moves(\"Javier\")\n",
    "calculate_track(\"Javier\", [\"-->\", \"-->\", \"-->\", \"-->\", \"<-->\", \"<--\",\"<--\",\"<--\",\"<--\",\"<--\",\"<--\",\"<--\"])"
   ]
  },
  {
   "cell_type": "code",
   "execution_count": null,
   "metadata": {},
   "outputs": [],
   "source": []
  },
  {
   "cell_type": "markdown",
   "metadata": {},
   "source": [
    "## TEST CODES"
   ]
  },
  {
   "cell_type": "code",
   "execution_count": null,
   "metadata": {},
   "outputs": [],
   "source": [
    "0.6699999999999999 < 1"
   ]
  },
  {
   "cell_type": "code",
   "execution_count": null,
   "metadata": {
    "jupyter": {
     "source_hidden": true
    }
   },
   "outputs": [],
   "source": [
    "Javier = Game_moves(\"Javier\")\n",
    "\n",
    "Javier.speed_up_track()\n",
    "print(Javier.velocity)\n",
    "Javier.speed_up_track()\n",
    "print(Javier.velocity)\n",
    "Javier.speed_up_track()\n",
    "print(Javier.velocity)\n",
    "Javier.speed_up_track()\n",
    "print(Javier.velocity)\n",
    "Javier.speed_up_track()\n",
    "print(Javier.velocity)\n",
    "Javier.speed_up_track()\n",
    "print(Javier.velocity)\n"
   ]
  },
  {
   "cell_type": "code",
   "execution_count": null,
   "metadata": {
    "jupyter": {
     "source_hidden": true
    }
   },
   "outputs": [],
   "source": [
    "Javier.powered_track()\n",
    "print(Javier.velocity)\n",
    "Javier.powered_track()\n",
    "print(Javier.velocity)\n",
    "Javier.powered_track()\n",
    "print(Javier.velocity)\n",
    "Javier.powered_track()\n",
    "print(Javier.velocity)\n",
    "Javier.powered_track()\n",
    "print(Javier.velocity)\n",
    "Javier.powered_track()\n",
    "print(Javier.velocity)"
   ]
  },
  {
   "cell_type": "code",
   "execution_count": null,
   "metadata": {
    "jupyter": {
     "source_hidden": true
    }
   },
   "outputs": [],
   "source": [
    "Javier.slow_down_track()\n",
    "print(Javier.velocity)\n",
    "Javier.slow_down_track()\n",
    "print(Javier.velocity)\n",
    "Javier.slow_down_track()\n",
    "print(Javier.velocity)\n",
    "Javier.slow_down_track()\n",
    "print(Javier.velocity)\n",
    "Javier.slow_down_track()\n",
    "print(Javier.velocity)\n",
    "Javier.slow_down_track()\n",
    "print(Javier.velocity)\n",
    "Javier.slow_down_track()\n",
    "print(Javier.velocity)"
   ]
  },
  {
   "cell_type": "code",
   "execution_count": 27,
   "metadata": {},
   "outputs": [
    {
     "name": "stdout",
     "output_type": "stream",
     "text": [
      "Character created\n",
      "2.67\n",
      "5.34\n",
      "8.01\n",
      "8.01\n",
      "7.01\n",
      "6.01\n",
      "5.01\n",
      "4.01\n",
      "3.01\n",
      "2.01\n",
      "1.0099999999999998\n",
      "0.009999999999999787\n",
      "0\n",
      "0\n"
     ]
    }
   ],
   "source": [
    "Javier = Game_moves(\"Javier\")\n",
    "Javier.speed_up_track()\n",
    "print(Javier.velocity)\n",
    "Javier.speed_up_track()\n",
    "print(Javier.velocity)\n",
    "Javier.speed_up_track()\n",
    "print(Javier.velocity)\n",
    "Javier.speed_up_track()\n",
    "print(Javier.velocity)\n",
    "Javier.unpowered_track()\n",
    "print(Javier.velocity)\n",
    "Javier.unpowered_track()\n",
    "print(Javier.velocity)\n",
    "Javier.unpowered_track()\n",
    "print(Javier.velocity)\n",
    "Javier.unpowered_track()\n",
    "print(Javier.velocity)\n",
    "Javier.unpowered_track()\n",
    "print(Javier.velocity)\n",
    "Javier.unpowered_track()\n",
    "print(Javier.velocity)\n",
    "Javier.unpowered_track()\n",
    "print(Javier.velocity)\n",
    "Javier.unpowered_track()\n",
    "print(Javier.velocity)\n",
    "Javier.unpowered_track()\n",
    "print(Javier.velocity)\n",
    "Javier.unpowered_track()\n",
    "print(Javier.velocity)\n"
   ]
  },
  {
   "cell_type": "code",
   "execution_count": null,
   "metadata": {},
   "outputs": [],
   "source": [
    "int(0.009999999999999787)"
   ]
  },
  {
   "cell_type": "code",
   "execution_count": null,
   "metadata": {},
   "outputs": [],
   "source": [
    "#global a\n",
    "a = 4\n",
    "\n",
    "def test():\n",
    "    print(a)\n",
    "    \n",
    "test()"
   ]
  },
  {
   "cell_type": "code",
   "execution_count": 25,
   "metadata": {},
   "outputs": [
    {
     "name": "stdout",
     "output_type": "stream",
     "text": [
      "9.45\n",
      "8.45\n",
      "7.449999999999999\n",
      "6.449999999999999\n",
      "5.449999999999999\n",
      "4.449999999999999\n",
      "3.4499999999999993\n",
      "2.4499999999999993\n",
      "1.4499999999999993\n",
      "0.4499999999999993\n",
      "0\n",
      "0\n",
      "0\n",
      "0\n",
      "0\n",
      "0\n",
      "0\n",
      "0\n",
      "0\n"
     ]
    }
   ],
   "source": [
    "a = 10.45\n",
    "\n",
    "for i in range(1,20):\n",
    "    if int(a) < int(1.0):\n",
    "        a = int(a)\n",
    "        a = a * 0\n",
    "    else:\n",
    "        a -= 1.0\n",
    "    print(a)"
   ]
  },
  {
   "cell_type": "code",
   "execution_count": 53,
   "metadata": {},
   "outputs": [
    {
     "name": "stdout",
     "output_type": "stream",
     "text": [
      "9.45\n",
      "8.45\n",
      "7.449999999999999\n",
      "6.449999999999999\n",
      "5.449999999999999\n",
      "4.449999999999999\n",
      "3.4499999999999993\n",
      "2.4499999999999993\n",
      "1.4499999999999993\n",
      "0.4499999999999993\n",
      "0.0\n",
      "0.0\n",
      "0.0\n",
      "0.0\n",
      "0.0\n",
      "0.0\n",
      "0.0\n",
      "0.0\n",
      "0.0\n"
     ]
    }
   ],
   "source": [
    "a = 10.45\n",
    "\n",
    "for i in range(1,20):\n",
    "    if a/1.0 < 1.0:\n",
    "        a = a/1.0\n",
    "        a = a * 0\n",
    "    else:\n",
    "        a -= 1.0\n",
    "    print(a)"
   ]
  },
  {
   "cell_type": "code",
   "execution_count": 56,
   "metadata": {},
   "outputs": [
    {
     "name": "stdout",
     "output_type": "stream",
     "text": [
      "10.45\n"
     ]
    }
   ],
   "source": [
    "print(10.45/1.0)"
   ]
  },
  {
   "cell_type": "code",
   "execution_count": null,
   "metadata": {},
   "outputs": [],
   "source": [
    "class Dog():\n",
    "    \n",
    "    def __init__(self,name):\n",
    "        self.name = name\n",
    "        self.eyes = 2\n",
    "        \n",
    "    def get_legs(self):\n",
    "        self.legs = 4\n",
    "        return self.legs \n",
    "        \n",
    "\n",
    "        "
   ]
  },
  {
   "cell_type": "code",
   "execution_count": null,
   "metadata": {},
   "outputs": [],
   "source": [
    "Dora = Dog(\"Dora\")"
   ]
  },
  {
   "cell_type": "code",
   "execution_count": null,
   "metadata": {},
   "outputs": [],
   "source": [
    "Dora.eyes"
   ]
  },
  {
   "cell_type": "code",
   "execution_count": null,
   "metadata": {},
   "outputs": [],
   "source": [
    "def test_2(obj):\n",
    "    exec(\"global {0}\\n{0}.eyes = 4\".format(obj))"
   ]
  },
  {
   "cell_type": "code",
   "execution_count": null,
   "metadata": {},
   "outputs": [],
   "source": [
    "test_2(\"Dora\")\n",
    "Dora.eyes"
   ]
  },
  {
   "cell_type": "code",
   "execution_count": null,
   "metadata": {},
   "outputs": [],
   "source": [
    "print(\"global {0}\\n{0} = 4\".format(\"var\"))"
   ]
  },
  {
   "cell_type": "code",
   "execution_count": null,
   "metadata": {},
   "outputs": [],
   "source": [
    "global var1\n",
    "var1 = 4\n",
    "print(var1)"
   ]
  },
  {
   "cell_type": "code",
   "execution_count": null,
   "metadata": {},
   "outputs": [],
   "source": [
    "exec(\"b = 5\")\n",
    "exec(\"a = b\")\n",
    "print(a)"
   ]
  },
  {
   "cell_type": "code",
   "execution_count": null,
   "metadata": {},
   "outputs": [],
   "source": [
    "test = [1,2,3]\n",
    "print(len(test))"
   ]
  },
  {
   "cell_type": "code",
   "execution_count": null,
   "metadata": {},
   "outputs": [],
   "source": [
    "print(8.01-2.67)"
   ]
  },
  {
   "cell_type": "code",
   "execution_count": null,
   "metadata": {},
   "outputs": [],
   "source": []
  }
 ],
 "metadata": {
  "kernelspec": {
   "display_name": "Python 3",
   "language": "python",
   "name": "python3"
  },
  "language_info": {
   "codemirror_mode": {
    "name": "ipython",
    "version": 3
   },
   "file_extension": ".py",
   "mimetype": "text/x-python",
   "name": "python",
   "nbconvert_exporter": "python",
   "pygments_lexer": "ipython3",
   "version": "3.7.4"
  }
 },
 "nbformat": 4,
 "nbformat_minor": 4
}
