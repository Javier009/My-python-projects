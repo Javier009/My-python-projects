{
 "cells": [
  {
   "cell_type": "code",
   "execution_count": null,
   "metadata": {},
   "outputs": [],
   "source": [
    "#The function is given an array of characters. Compress the array into a string using the following rules. For each group of consecutively repeating characters:\n",
    "\n",
    "#If the number of repeating characters is one, append the string with only this character.\n",
    "#If the number n of repeating characters x is greater than one, append the string with \"x\" + str(n).\n",
    "\n",
    "\n",
    "#LEVEL EXPERT\n",
    "# Examples\n",
    "#compress([\"a\", \"a\", \"b\", \"b\", \"c\", \"c\", \"c\"]) ➞ \"a2b2c3\"\n",
    "\n",
    "#compress([\"a\"]) ➞ \"a\"\n",
    "\n",
    "#compress([\"a\", \"b\", \"b\", \"b\", \"b\", \"b\", \"b\", \"b\", \"b\", \"b\", \"b\", \"b\", \"b\"]) ➞ \"ab12\"\n",
    "\n",
    "#compress([\"a\", \"a\", \"a\", \"b\", \"b\", \"a\", \"a\"]) ➞ \"a3b2a2\"\n"
    "https://edabit.com/challenge/6RHxTTndfASnPyp8Z"
   ]
  },
  {
   "cell_type": "code",
   "execution_count": 15,
   "metadata": {},
   "outputs": [],
   "source": [
    "def compress(to_compress_list):\n",
    "    #test_list = [\"a\", \"a\", \"b\", \"b\", \"c\", \"c\", \"c\"]\n",
    "    unique_values = list(set(to_compress_list))\n",
    "    unique_values.sort()\n",
    "    pairs = []\n",
    "    results_list = []\n",
    "\n",
    "    for i in unique_values:\n",
    "        value_count = to_compress_list.count(i)\n",
    "        pairs.append((i, value_count))\n",
    "\n",
    "    for pair in pairs:\n",
    "        letter = pair[0]\n",
    "        results_list.append(letter)\n",
    "        frecuency = pair[1]\n",
    "        if frecuency == 1:\n",
    "            pass\n",
    "        else:\n",
    "            results_list.append(str(frecuency))\n",
    "\n",
    "    return ''.join(results_list) "
   ]
  },
  {
   "cell_type": "code",
   "execution_count": 16,
   "metadata": {},
   "outputs": [
    {
     "data": {
      "text/plain": [
       "'ab12'"
      ]
     },
     "execution_count": 16,
     "metadata": {},
     "output_type": "execute_result"
    }
   ],
   "source": [
    "compress([\"a\", \"b\", \"b\", \"b\", \"b\", \"b\", \"b\", \"b\", \"b\", \"b\", \"b\", \"b\", \"b\"])"
   ]
  },
  {
   "cell_type": "code",
   "execution_count": null,
   "metadata": {},
   "outputs": [],
   "source": []
  }
 ],
 "metadata": {
  "kernelspec": {
   "display_name": "Python 3",
   "language": "python",
   "name": "python3"
  },
  "language_info": {
   "codemirror_mode": {
    "name": "ipython",
    "version": 3
   },
   "file_extension": ".py",
   "mimetype": "text/x-python",
   "name": "python",
   "nbconvert_exporter": "python",
   "pygments_lexer": "ipython3",
   "version": "3.7.4"
  }
 },
 "nbformat": 4,
 "nbformat_minor": 4
}
