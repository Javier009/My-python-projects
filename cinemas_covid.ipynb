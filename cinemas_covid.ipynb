{
 "cells": [
  {
   "cell_type": "markdown",
   "metadata": {},
   "source": [
    "Cinemas in 2021\n",
    "Given a list of seats, return the maximum number of new people which can be seated, as long as there is at least a gap of 2 seats between people.\n",
    "\n",
    "Empty seats are given as 0.\n",
    "Occupied seats are given as 1.\n",
    "Don't move any seats which are already occupied, even if they are less than 2 seats apart. Consider only the gaps between new seats and existing seats.\n",
    "Examples\n",
    "maximum_seating([0, 0, 0, 1, 0, 0, 1, 0, 0, 0]) ➞ 2\n",
    "# [1, 0, 0, 1, 0, 0, 1, 0, 0, 1]\n",
    "\n",
    "maximum_seating([0, 0, 0, 0]) ➞ 2\n",
    "# [1, 0, 0, 1]\n",
    "\n",
    "maximum_seating([1, 0, 0, 0, 0, 1]) ➞ 0\n",
    "# There is no way to have a gap of at least 2 chairs when adding someone "
   ]
  },
  {
   "cell_type": "code",
   "execution_count": 40,
   "metadata": {},
   "outputs": [
    {
     "name": "stdout",
     "output_type": "stream",
     "text": [
      "Number of avilable seats: 0\n"
     ]
    }
   ],
   "source": [
    "theater_seats = [0,1,0,0,0,0,0,1,0,0,0,0,0,0,0,0,0,0,0,0,0,0,0,0,0,0,0,0,0,0,0,0]\n",
    "avilable_seats = []\n",
    "iterator = 0\n",
    "final_index = len(theater_seats)-1\n",
    "\n",
    "while iterator <= final_index:\n",
    "    \n",
    "    if theater_seats[iterator] == 0:\n",
    "        if iterator == 0:\n",
    "            next_1 = theater_seats[iterator+1]\n",
    "            next_2 = theater_seats[iterator+2]\n",
    "            if next_1 == 0 and next_2 == 0:\n",
    "                avilable_seats.append((1, iterator))\n",
    "                theater_seats[iterator] = 1\n",
    "                iterator += 1\n",
    "            else:\n",
    "                iterator += 1\n",
    "\n",
    "        elif iterator == 1:\n",
    "            prev_1 = theater_seats[iterator-1]\n",
    "            next_1 = theater_seats[iterator+1]\n",
    "            next_2 = theater_seats[iterator+2]\n",
    "            if prev_1 == 0 and next_1 == 0 and next_2 == 0:\n",
    "                avilable_seats.append((1, iterator))\n",
    "                theater_seats[iterator] = 1\n",
    "                iterator += 1\n",
    "            else:\n",
    "                iterator += 1\n",
    "\n",
    "        elif final_index - iterator == 1:\n",
    "            prev_1 = theater_seats[iterator-1]\n",
    "            prev_2 = theater_seats[iterator-2]\n",
    "            next_1 = theater_seats[final_index]\n",
    "            if prev_1 == 0 and prev_2 == 0 and next_1 == 0:\n",
    "                avilable_seats.append((1, iterator))\n",
    "                theater_seats[iterator] = 1\n",
    "                iterator += 1\n",
    "            else:\n",
    "                iterator += 1\n",
    "\n",
    "        elif final_index == iterator:\n",
    "            prev_1 = theater_seats[iterator-1]\n",
    "            prev_2 = theater_seats[iterator-2]\n",
    "            if prev_1 == 0 and prev_2 == 0:\n",
    "                avilable_seats.append((1, iterator))\n",
    "                theater_seats[iterator] = 1\n",
    "                iterator += 1\n",
    "            else:\n",
    "                iterator += 1\n",
    "        else:\n",
    "            prev_1 = theater_seats[iterator-1]\n",
    "            prev_2 = theater_seats[iterator-2]\n",
    "            next_1 = theater_seats[iterator+1]\n",
    "            next_2 = theater_seats[iterator+2]\n",
    "\n",
    "            if prev_1 == 0 and  prev_2 == 0 and next_1 == 0 and next_2 == 0:\n",
    "                avilable_seats.append((1, iterator))\n",
    "                theater_seats[iterator] = 1\n",
    "                iterator += 1\n",
    "            else:\n",
    "                iterator += 1\n",
    "    else:\n",
    "        iterator += 1\n",
    "\n",
    "print(f'Number of avilable seats: {len(avilable_seats)}')\n",
    "\n",
    "for i in avilable_seats:\n",
    "    print(f'Avilable seat: {i[1]+1}')"
   ]
  },
  {
   "cell_type": "code",
   "execution_count": null,
   "metadata": {},
   "outputs": [],
   "source": []
  }
 ],
 "metadata": {
  "kernelspec": {
   "display_name": "Python 3",
   "language": "python",
   "name": "python3"
  },
  "language_info": {
   "codemirror_mode": {
    "name": "ipython",
    "version": 3
   },
   "file_extension": ".py",
   "mimetype": "text/x-python",
   "name": "python",
   "nbconvert_exporter": "python",
   "pygments_lexer": "ipython3",
   "version": "3.7.4"
  }
 },
 "nbformat": 4,
 "nbformat_minor": 4
}
