{
 "cells": [
  {
   "cell_type": "code",
   "execution_count": null,
   "metadata": {},
   "outputs": [],
   "source": [
    "## https://edabit.com/challenges\n",
    "## ex link : https://edabit.com/challenge/T4q8P8cxvBtaLPW4q"
   ]
  },
  {
   "cell_type": "code",
   "execution_count": null,
   "metadata": {},
   "outputs": [],
   "source": [
    "## Create a function that takes an integer argument and returns a list of prime numbers found in the decimal representation of that number.\n",
    "##For example, extract_primes(1717) returns [7, 7, 17, 17, 71].\n",
    "##The list should be in acending order. If a prime number appears more than once, every occurance should be listed. If no prime numbers are found, return an empty list.\n",
    "## LEVEL : EXPERT"
   ]
  },
  {
   "cell_type": "code",
   "execution_count": 6,
   "metadata": {},
   "outputs": [],
   "source": [
    "import itertools\n",
    "\n",
    "def generate_primes(num):\n",
    "    \n",
    "    str_num = str(num)\n",
    "    iterator = 0\n",
    "    list_of_permutations = []\n",
    "    dict_of_data = {}\n",
    "    list_of_primes = []\n",
    "    \n",
    "    while iterator <= len(str_num):\n",
    "        iterating_list = [''.join(i) for i in itertools.permutations(str_num,iterator)]\n",
    "        for per in iterating_list:\n",
    "            list_of_permutations.append(per)\n",
    "        iterator += 1\n",
    "        \n",
    "    for i in list_of_permutations:\n",
    "        if i.isdigit() == False or i == \"0\":\n",
    "            pass\n",
    "        else:\n",
    "            data = int(i)\n",
    "            if data not in dict_of_data:\n",
    "                dict_of_data.update({data:[]})\n",
    "                \n",
    "                if data == 1:\n",
    "                    dict_of_data[data].append(\"crash\")\n",
    "                elif data == 2:\n",
    "                    dict_of_data[data].append(\"not div\")\n",
    "                else:   \n",
    "                    for r in range(1,data+1):\n",
    "                        if r == 1 or r == data:\n",
    "                            pass\n",
    "                        else:\n",
    "                            if data % r == 0:\n",
    "                                dict_of_data[data].append(\"crash\")\n",
    "                            else:\n",
    "                                dict_of_data[data].append(\"not div\")\n",
    "            else:\n",
    "                \n",
    "                if data == 1:\n",
    "                    dict_of_data[data].append(\"crash\")\n",
    "                elif data == 2:\n",
    "                    dict_of_data[data].append(\"not div\")\n",
    "                else:   \n",
    "                    for r in range(1,data+1):\n",
    "                        if r == 1 or r == data:\n",
    "                            pass\n",
    "                        else:\n",
    "                            if data % r == 0:\n",
    "                                dict_of_data[data].append(\"crash\")\n",
    "                            else:\n",
    "                                dict_of_data[data].append(\"not div\")              \n",
    "            \n",
    "    for key in dict_of_data:\n",
    "        if \"crash\" in dict_of_data[key]:\n",
    "            pass\n",
    "        else:\n",
    "            list_of_primes.append(key)\n",
    "    \n",
    "    return list_of_primes"
   ]
  },
  {
   "cell_type": "code",
   "execution_count": 8,
   "metadata": {},
   "outputs": [
    {
     "data": {
      "text/plain": [
       "[3,\n",
       " 43,\n",
       " 83,\n",
       " 89,\n",
       " 439,\n",
       " 409,\n",
       " 349,\n",
       " 389,\n",
       " 839,\n",
       " 809,\n",
       " 983,\n",
       " 4903,\n",
       " 4093,\n",
       " 3049,\n",
       " 3089,\n",
       " 8039,\n",
       " 8093,\n",
       " 9403,\n",
       " 9803,\n",
       " 9043]"
      ]
     },
     "execution_count": 8,
     "metadata": {},
     "output_type": "execute_result"
    }
   ],
   "source": [
    "generate_primes(43890)"
   ]
  },
  {
   "cell_type": "code",
   "execution_count": null,
   "metadata": {},
   "outputs": [],
   "source": []
  }
 ],
 "metadata": {
  "kernelspec": {
   "display_name": "Python 3",
   "language": "python",
   "name": "python3"
  },
  "language_info": {
   "codemirror_mode": {
    "name": "ipython",
    "version": 3
   },
   "file_extension": ".py",
   "mimetype": "text/x-python",
   "name": "python",
   "nbconvert_exporter": "python",
   "pygments_lexer": "ipython3",
   "version": "3.7.4"
  }
 },
 "nbformat": 4,
 "nbformat_minor": 4
}
