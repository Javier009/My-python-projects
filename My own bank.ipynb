{
 "cells": [
  {
   "cell_type": "markdown",
   "metadata": {},
   "source": [
    "FIRST IMPORT OUR NESCEARY LIBRARIES"
   ]
  },
  {
   "cell_type": "code",
   "execution_count": 56,
   "metadata": {},
   "outputs": [],
   "source": [
    "import sqlite3\n",
    "import random\n",
    "import locale\n",
    "import datetime as datetime"
   ]
  },
  {
   "cell_type": "markdown",
   "metadata": {},
   "source": [
    "CREATE OUR SQL DATA BASES"
   ]
  },
  {
   "cell_type": "code",
   "execution_count": null,
   "metadata": {},
   "outputs": [],
   "source": [
    "db = sqlite3.connect(\"Accounts_my_project2.sqlite3\")\n",
    "db.execute(\"CREATE TABLE IF NOT EXISTS Accounts_advanced (name TEXT, type_of_account TEXT, Account_number TEXT, date_added TEXT)\")"
   ]
  },
  {
   "cell_type": "markdown",
   "metadata": {},
   "source": [
    "CREATE OUR ACCOUNT CLASS AND METHODS"
   ]
  },
  {
   "cell_type": "code",
   "execution_count": null,
   "metadata": {
    "jupyter": {
     "source_hidden": true
    }
   },
   "outputs": [],
   "source": [
    "list_of_all_accounts = []\n",
    "list_of_customers = []\n",
    "\n",
    "def random_numbers_generation():\n",
    "    return random.randint(0,9+1)\n",
    "    \n",
    "class Account(object):\n",
    "    \n",
    "    def __init__(self, name):\n",
    "        self.name = name\n",
    "        self.person_accounts = []\n",
    "        list_of_customers.append(self)\n",
    "        print(\"Client {0} sucesfully registered\".format(self.name))\n",
    "        #print(\"{} object was created\".format(self))\n",
    "        \n",
    "    def __str__(self):\n",
    "        return(\"{0} object was created\".format(self))\n",
    "    \n",
    "    \n",
    "    def create_account(self, type_of_account = \"S\", balance = 0):\n",
    "        \n",
    "        dict_of_account = {\"S\": \"Savings\",\"P\": \"Payrole\",\"IL\": \"Low Risk Investment\",\"IH\": \"High risk investment\"}\n",
    "        time_of_registration = datetime.datetime.now()\n",
    "        time_of_registration = time_of_registration.strftime(\"%d/%m/%Y %H:%M:%S\")\n",
    "        global category\n",
    "        category = dict_of_account[type_of_account]\n",
    "        global account_number\n",
    "        account_number = \"{0}_{1}{2}{3}{4}{5}\".format(type_of_account, random_numbers_generation(),random_numbers_generation(),random_numbers_generation(),\n",
    "                                                                            random_numbers_generation(),random_numbers_generation())\n",
    "        \n",
    "        while account_number:\n",
    "            if account_number in list_of_all_accounts:\n",
    "                print(\"Account number already registered generating a new account number\")\n",
    "                account_number = \"{0}_{1}{2}{3}{4}{5}\".format(type_of_account, random_numbers_generation(),random_numbers_generation(),random_numbers_generation(),\n",
    "                                                              random_numbers_generation(),random_numbers_generation())\n",
    "            else:\n",
    "                list_of_all_accounts.append(account_number)\n",
    "                #self.person_accounts.append((self.name, category, account_number, balance))\n",
    "                self.person_accounts.append({account_number :{\"Name\":self.name,\"Category\":category, \"Account number\": account_number, \"Balance\": balance}})\n",
    "                db.execute(\"INSERT INTO Accounts_advanced (name, type_of_account, Account_number, date_added) VALUES ('{0}','{1}','{2}','{3}')\".format(self.name, category, account_number, time_of_registration))\n",
    "                print(\"Account created correctly: Name: {0}, Type of account: {1}, Account number: {2} Balance: {3}\".format(self.name, category, account_number, balance))\n",
    "                break\n",
    "        \n",
    "    def deposit(self, account_number = None):\n",
    "        \n",
    "        list_of_all_customer_accounts = []\n",
    "        print(\"Hello {0}, here is a list of all your accounts registered with SMART FINANCIALS\".format(self.name))\n",
    "        \n",
    "        for dictionary in self.person_accounts:\n",
    "            for account in dictionary:\n",
    "                list_of_all_customer_accounts.append(account)\n",
    "                print(\"Account number : {0}, Category : {1} , Balance : {2}\".format(account , dictionary[account][\"Category\"],dictionary[account][\"Balance\"]))\n",
    "                \n",
    "        account_to_deposit = input(\"Select one account to deposit\")\n",
    "        \n",
    "        while account_to_deposit:\n",
    "            \n",
    "            if account_to_deposit not in list_of_all_customer_accounts:\n",
    "                print(\"Please select a valid account number to make your deposit\")\n",
    "                account_to_deposit = input(\"Select one account to depostit\")\n",
    "            else:\n",
    "                deposit = float(input(\"Enter your desire ammount to deposit to you account {0}\".format(account_to_deposit)))\n",
    "                \n",
    "                for dict_1 in self.person_accounts:\n",
    "                    for account in dict_1:\n",
    "                        if account == account_to_deposit:\n",
    "                            dict_1[account][\"Balance\"] += deposit\n",
    "                            print(\"Deposit done succesfully\")\n",
    "                            print(\"Account: {0}, Type of account: {1}, New balance: {2}\".format(account, dict_1[account][\"Category\"], dict_1[account][\"Balance\"]))\n",
    "                        else:\n",
    "                            pass\n",
    "                break\n",
    "            "
   ]
  },
  {
   "cell_type": "code",
   "execution_count": null,
   "metadata": {
    "jupyter": {
     "source_hidden": true
    }
   },
   "outputs": [],
   "source": [
    "Javier = Account(\"Javier\")\n",
    "Javier.create_account(\"S\", 1000)\n",
    "\n",
    "def exec_deposit():\n",
    "    exec(\"Javier.deposit()\")\n",
    "\n",
    "exec_deposit()"
   ]
  },
  {
   "cell_type": "code",
   "execution_count": 57,
   "metadata": {},
   "outputs": [],
   "source": [
    "## MY LOGIC TO CREATE ACCOUNTS AND OPERATIONS WITHIN ACCOUNTS\n",
    "\n",
    "list_of_all_accounts = []\n",
    "list_of_customers = []\n",
    "list_of_accounts_numbers = []\n",
    "\n",
    "def random_numbers_generation():\n",
    "    return random.randint(0,9)\n",
    "   \n",
    "class Account(object):\n",
    "   \n",
    "    def __init__(self, name):\n",
    "        self.name = name\n",
    "        self.password = input(\"Please create a password\")\n",
    "        password_check = input(\"Please retype your password\")\n",
    "        \n",
    "        while password_check:\n",
    "            if password_check == self.password:\n",
    "                global final_password   ## IN ORDER TO GET THE FUNCTION LOG IN RUN\n",
    "                final_password = self.password\n",
    "                self.person_accounts = []\n",
    "                global person_accounts\n",
    "                person_accounts = self.person_accounts\n",
    "                list_of_customers.append(self.name)\n",
    "                print(\"Client {0} sucesfully registered\".format(self.name))\n",
    "                break\n",
    "            else:\n",
    "                print(\"Passwords must be equal\")\n",
    "                password_check = input(\"Please retype your password\")      \n",
    "        \n",
    "        \n",
    "        #print(\"{} object was created\".format(self))\n",
    "       \n",
    "    def __str__(self):\n",
    "        return(\"{0} object was created\".format(self))\n",
    "    \n",
    "    def get_password(self):\n",
    "        return self.password\n",
    "    \n",
    "    def get_accounts(self):\n",
    "        return self.person_accounts\n",
    "   \n",
    "   \n",
    "    def create_account(self, type_of_account = \"S\", balance = 0):\n",
    "       \n",
    "        dict_of_account = {\"S\": \"Savings\",\"P\": \"Payrole\",\"IL\": \"Low Risk Investment\",\"IH\": \"High risk investment\"}\n",
    "        time_of_registration = datetime.datetime.now()\n",
    "        time_of_registration = time_of_registration.strftime(\"%d/%m/%Y %H:%M:%S\")\n",
    "        global category\n",
    "        category = dict_of_account[type_of_account]\n",
    "        global account_number\n",
    "        account_number = \"{0}_{1}{2}{3}{4}{5}{6}\".format(type_of_account, random_numbers_generation(),random_numbers_generation(),random_numbers_generation(),\n",
    "                                                                            random_numbers_generation(),random_numbers_generation(),random_numbers_generation())\n",
    "       \n",
    "        while account_number:\n",
    "            if account_number in list_of_all_accounts:\n",
    "                print(\"Account number already registered generating a new account number\")\n",
    "                account_number = \"{0}_{1}{2}{3}{4}{5}{6}\".format(type_of_account, random_numbers_generation(),random_numbers_generation(),random_numbers_generation(),\n",
    "                                                              random_numbers_generation(),random_numbers_generation(),random_numbers_generation())\n",
    "            else:\n",
    "                list_of_all_accounts.append({account_number : self.name})\n",
    "                list_of_accounts_numbers.append(account_number)\n",
    "                #self.person_accounts.append((self.name, category, account_number, balance))\n",
    "                self.person_accounts.append({account_number :{\"Name\":self.name,\"Category\":category, \"Account number\": account_number, \"Balance\": balance}})\n",
    "                #db.execute(\"INSERT INTO Accounts_advanced (name, type_of_account, Account_number, date_added) VALUES ('{0}','{1}','{2}','{3}')\".format(self.name, category, account_number, time_of_registration))\n",
    "                print(\"Account created correctly: Name: {0}, Type of account: {1}, Account number: {2} Balance: {3}\".format(self.name, category, account_number, balance))\n",
    "                break\n",
    "       \n",
    "    def deposit(self, account_number = None, ammount = None):\n",
    "       \n",
    "        if account_number is None and ammount is None:\n",
    "       \n",
    "            list_of_customer_accounts = []\n",
    "            print(\"Hello {0}, here is a list of all your accounts registered with SMART FINANCIALS\".format(self.name))\n",
    "\n",
    "            for dictionary in self.person_accounts:\n",
    "                for account in dictionary:\n",
    "                    list_of_customer_accounts.append(account)\n",
    "                    print(\"Account number : {0}, Category : {1}, Balance : {2}\".format(account , dictionary[account][\"Category\"],dictionary[account][\"Balance\"]))\n",
    "\n",
    "            account_to_deposit = input(\"Select one account to deposit\")\n",
    "\n",
    "            while account_to_deposit:\n",
    "                #account_to_deposit = account_to_deposit\n",
    "                if account_to_deposit not in list_of_customer_accounts:\n",
    "                    print(\"Please select a valid account number to make your deposit\")\n",
    "                    account_to_deposit = input(\"Select one account to depostit\")\n",
    "                else:\n",
    "                    deposit = float(input(\"Enter your desire ammount to deposit to you account {0}\".format(account_to_deposit)))\n",
    "\n",
    "                    for dict_1 in self.person_accounts:\n",
    "                        for account in dict_1:\n",
    "                            if account == account_to_deposit:\n",
    "                                dict_1[account][\"Balance\"] += deposit\n",
    "                                print(\"Deposit done succesfully\")\n",
    "                                print(\"Account: {0}, Type of account: {1}, New balance: {2}\".format(account, dict_1[account][\"Category\"], dict_1[account][\"Balance\"]))\n",
    "                            else:\n",
    "                                pass\n",
    "                    break\n",
    "        else: ## CONSIDERING A TRANSFER FROM AN EXTERNAL ACCOUNT (to test)\n",
    "           \n",
    "            for dictionary in self.person_accounts:\n",
    "                for account in dictionary:\n",
    "                    if account_number == account:\n",
    "                        dictionary[account_number][\"Balance\"] += ammount\n",
    "                    else:\n",
    "                        pass\n",
    "                       \n",
    "           \n",
    "    def withdrawal(self, account_number = None):  # this method will allow only to take money from savings and payrole accounts\n",
    "       \n",
    "        list_of_customer_accounts = []\n",
    "         \n",
    "        print(\"\"\"Hello {0}, here is a list of all your Savings and Payrole accounts registered with SMART FINANCIALS.\\nNotice that you can't withdrawal from investments accounts, for that purpose transfer founds from investment accounts to these withdrawal allowed accounts\"\"\".format(\"Javier\"))\n",
    "        print()\n",
    "        for dictionary in self.person_accounts:\n",
    "            for account in dictionary:\n",
    "                if dictionary[account][\"Category\"] == \"Savings\" or dictionary[account][\"Category\"] == \"Payrole\":\n",
    "                    list_of_customer_accounts.append(account)\n",
    "                    print(\"Account number : {0}, Category : {1} , Balance : {2}\".format(account , dictionary[account][\"Category\"],dictionary[account][\"Balance\"]))\n",
    "                else:\n",
    "                    pass\n",
    "       \n",
    "        account_to_withdrawal = input(\"Select one account to deposit\")\n",
    "       \n",
    "        while account_to_withdrawal:\n",
    "           \n",
    "            if account_to_withdrawal not in list_of_customer_accounts:\n",
    "                print(\"Please select a valid account number to make your withdrawal\")\n",
    "                account_to_withdrawal = input(\"Select one account to withdrawal\")\n",
    "            else:\n",
    "                withdrawal = float(input(\"Enter your desire ammount to withdrawal from your account {0}\".format(account_to_withdrawal)))\n",
    "               \n",
    "                for dict_1 in self.person_accounts:\n",
    "                    for account in dict_1:\n",
    "                        if account == account_to_withdrawal:\n",
    "                            dict_1[account][\"Balance\"] -= withdrawal\n",
    "                            print(\"Withdrawal done succesfully\")\n",
    "                            print(\"Account: {0}, Type of account: {1}, New balance: {2}\".format(account, dict_1[account][\"Category\"], dict_1[account][\"Balance\"]))\n",
    "                        else:\n",
    "                            pass\n",
    "                break\n",
    "               \n",
    "    def transfer_money(self, ammount_to_transfer = None):\n",
    "       \n",
    "        global beneficiary_name\n",
    "        global org_balance_to_report\n",
    "        list_of_customer_accounts = []\n",
    "        type_of_transfer = input(\"Select type of transfer: Internal(I) or External(E): \")\n",
    "       \n",
    "        while type_of_transfer:\n",
    "           \n",
    "            if type_of_transfer.casefold() == \"i\":\n",
    "                print(\"Hello {0} please select an account transfer founds to\".format(self.name))\n",
    "                for dictionary in self.person_accounts:\n",
    "                    for account in dictionary:\n",
    "                        list_of_customer_accounts.append(account)\n",
    "                        print(\"Account number : {0}, Category : {1} , Balance : {2}\".format(account , dictionary[account][\"Category\"],dictionary[account][\"Balance\"]))\n",
    "                account_to_transfer = input(\"Type an account to transfer\")\n",
    "               \n",
    "                while account_to_transfer:\n",
    "               \n",
    "                    if account_to_transfer not in list_of_customer_accounts:\n",
    "                        print(\"Please select one of your registered accounts\")\n",
    "                        account_to_transfer =  input(\"Type an account to transfer\")\n",
    "                    else:\n",
    "                        ammount_to_transfer = float(input(\"Type an ammount to transfer\"))\n",
    "                        origin_account =  input(\"Please select an origin account\")\n",
    "                   \n",
    "                        while origin_account:\n",
    "                       \n",
    "                            if origin_account not in list_of_customer_accounts:\n",
    "                                print(\"Please select one of your registered accounts\")\n",
    "                                origin_account =  input(\"Please select an origin account\")\n",
    "\n",
    "                            else:\n",
    "                                ## ORIGIN ACCOUNT\n",
    "                                for dictionary in self.person_accounts:\n",
    "                                    for org_account in dictionary:\n",
    "                                        if org_account == origin_account:\n",
    "                                            if dictionary[org_account][\"Balance\"] >= ammount_to_transfer:\n",
    "                                                dictionary[org_account][\"Balance\"] -= ammount_to_transfer\n",
    "                                                org_balance_to_report = dictionary[org_account][\"Balance\"]\n",
    "                                            else:\n",
    "                                                print(\"Insuficient founds in account {}\".format(origin_account))\n",
    "                                                ammount_to_transfer = float(input(\"Type an ammount to transfer\"))\n",
    "                                        else:\n",
    "                                            pass\n",
    "                                               \n",
    "                                ## DESTINATION ACCOUNT\n",
    "                               \n",
    "                                for dictionary in self.person_accounts:\n",
    "                                    for dest_account in dictionary:\n",
    "                                        if dest_account == account_to_transfer:\n",
    "                                            dictionary[dest_account][\"Balance\"] += ammount_to_transfer\n",
    "                                            dest_balance_to_report = dictionary[dest_account][\"Balance\"]\n",
    "                                            print(\"Thank you {0.name}, transfer done succesfurly from account {1} to account {2}\".format(self, origin_account, account_to_transfer))\n",
    "                                            print(\"Balance of accounts involved in transaction summary:\\nOrigin account: {0}, Balance: {1}\\nDestination account: {2}, Balance: {3}\".format(origin_account, org_balance_to_report, account_to_transfer, dest_balance_to_report))\n",
    "                                        else:\n",
    "                                            pass\n",
    "                                break\n",
    "                        break\n",
    "                break\n",
    "            ## CODE FOR EXTERNAL TRANSFERS (WIP)\n",
    "            else:\n",
    "                print(\"Please select an external account to tranfer found to\")\n",
    "                for dictionary in list_of_all_accounts:\n",
    "                    for account in dictionary:\n",
    "                        list_of_customer_accounts.append(account)\n",
    "                        if  dictionary[account] == self.name:\n",
    "                            pass\n",
    "                        else:\n",
    "                            print(\"Account number: {0} , Account holder: {1}\".format(account, dictionary[account]))\n",
    "                account_to_transfer = input(\"Please type an account to transfer founds\")\n",
    "                           \n",
    "                while account_to_transfer:\n",
    "                               \n",
    "                    if account_to_transfer not in list_of_customer_accounts:\n",
    "                        print(\"Please enter a valid account number registered with SMART FINANCIALS\")\n",
    "                        account_to_transfer = input(\"Please type an account to transfer founds\")   ##  THIS IS NOT WORKING\n",
    "                    else:\n",
    "                        for dictionary in list_of_all_accounts:\n",
    "                            for account in dictionary:\n",
    "                                if account == account_to_transfer:\n",
    "                                    beneficiary_name = dictionary[account].replace(\" \",\"_\")\n",
    "                                    print(beneficiary_name)\n",
    "                                               \n",
    "                        ammount = float(input(\"Please enter the ammount to transfer\"))\n",
    "                                   \n",
    "                        print(\"Thank you {0.name}, please select an origin account to proceed:\".format(self))\n",
    "                        for dictionary in self.person_accounts:\n",
    "                            for account in dictionary:\n",
    "                                print(\"Account number : {0}, Category : {1} , Balance : {2}\".format(account , dictionary[account][\"Category\"],dictionary[account][\"Balance\"]))\n",
    "                                       \n",
    "                        origin_account =  input(\"Please select an origin account\")\n",
    "                                   \n",
    "                        while origin_account:\n",
    "                                       \n",
    "                            if origin_account not in list_of_customer_accounts:\n",
    "                                print(\"Please select one of your registered accounts\")\n",
    "                                origin_account =  input(\"Please select an origin account\")\n",
    "\n",
    "                            else:\n",
    "                                ## ORIGIN ACCOUNT\n",
    "                                for dictionary in self.person_accounts:\n",
    "                                    for org_account in dictionary:\n",
    "                                        if org_account == origin_account:\n",
    "                                            if dictionary[org_account][\"Balance\"] >= ammount:\n",
    "                                                dictionary[org_account][\"Balance\"] -= ammount\n",
    "                                                org_balance_to_report = dictionary[org_account][\"Balance\"]\n",
    "                                            else:\n",
    "                                                print(\"Insuficient founds in account {}\".format(origin_account))\n",
    "                                                ammount_to_transfer = float(input(\"Type an ammount to transfer\"))\n",
    "                                        else:\n",
    "                                            pass\n",
    "                                                   \n",
    "                                exec(\"{0}.deposit(account_to_transfer, ammount)\".format(beneficiary_name))\n",
    "                                print(\"Thank you, transaction done succesfully. Here is a summary of you transaction:\")\n",
    "                                print()\n",
    "                                print(\"Beneficiary Name: {0}\\nDestination account: {1}\\nOrigin Account: {2}\\nBalance in account {2}: {3}\".format(beneficiary_name,account_to_transfer,origin_account,org_balance_to_report))\n",
    "                                           \n",
    "                                break\n",
    "                        break\n",
    "                break\n"
   ]
  },
  {
   "cell_type": "code",
   "execution_count": 58,
   "metadata": {},
   "outputs": [
    {
     "name": "stdin",
     "output_type": "stream",
     "text": [
      "Please create a password abadejos\n",
      "Please retype your password abadejos\n"
     ]
    },
    {
     "name": "stdout",
     "output_type": "stream",
     "text": [
      "Client Javier sucesfully registered\n"
     ]
    },
    {
     "name": "stdin",
     "output_type": "stream",
     "text": [
      "Please create a password leo\n",
      "Please retype your password leo\n"
     ]
    },
    {
     "name": "stdout",
     "output_type": "stream",
     "text": [
      "Client Sofia sucesfully registered\n"
     ]
    }
   ],
   "source": [
    "Javier = Account(\"Javier\")\n",
    "Sofia = Account(\"Sofia\")"
   ]
  },
  {
   "cell_type": "code",
   "execution_count": 59,
   "metadata": {},
   "outputs": [
    {
     "name": "stdout",
     "output_type": "stream",
     "text": [
      "Account created correctly: Name: Javier, Type of account: Savings, Account number: S_276156 Balance: 1000\n",
      "Account created correctly: Name: Javier, Type of account: Payrole, Account number: P_950398 Balance: 1000\n",
      "Account created correctly: Name: Javier, Type of account: Low Risk Investment, Account number: IL_881521 Balance: 1000\n",
      "Account created correctly: Name: Javier, Type of account: High risk investment, Account number: IH_730396 Balance: 1000\n",
      "[{'S_276156': {'Name': 'Javier', 'Category': 'Savings', 'Account number': 'S_276156', 'Balance': 1000}}, {'P_950398': {'Name': 'Javier', 'Category': 'Payrole', 'Account number': 'P_950398', 'Balance': 1000}}, {'IL_881521': {'Name': 'Javier', 'Category': 'Low Risk Investment', 'Account number': 'IL_881521', 'Balance': 1000}}, {'IH_730396': {'Name': 'Javier', 'Category': 'High risk investment', 'Account number': 'IH_730396', 'Balance': 1000}}]\n",
      "Account created correctly: Name: Sofia, Type of account: Savings, Account number: S_357305 Balance: 1000\n",
      "Account created correctly: Name: Sofia, Type of account: Payrole, Account number: P_136655 Balance: 1000\n",
      "Account created correctly: Name: Sofia, Type of account: Low Risk Investment, Account number: IL_751462 Balance: 1000\n",
      "Account created correctly: Name: Sofia, Type of account: High risk investment, Account number: IH_945633 Balance: 1000\n",
      "[{'S_357305': {'Name': 'Sofia', 'Category': 'Savings', 'Account number': 'S_357305', 'Balance': 1000}}, {'P_136655': {'Name': 'Sofia', 'Category': 'Payrole', 'Account number': 'P_136655', 'Balance': 1000}}, {'IL_751462': {'Name': 'Sofia', 'Category': 'Low Risk Investment', 'Account number': 'IL_751462', 'Balance': 1000}}, {'IH_945633': {'Name': 'Sofia', 'Category': 'High risk investment', 'Account number': 'IH_945633', 'Balance': 1000}}]\n"
     ]
    }
   ],
   "source": [
    "Javier.create_account(\"S\",1000)\n",
    "Javier.create_account(\"P\",1000)\n",
    "Javier.create_account(\"IL\",1000)\n",
    "Javier.create_account(\"IH\",1000)\n",
    "print(Javier.person_accounts)\n",
    "\n",
    "Sofia.create_account(\"S\",1000)\n",
    "Sofia.create_account(\"P\",1000)\n",
    "Sofia.create_account(\"IL\",1000)\n",
    "Sofia.create_account(\"IH\",1000)\n",
    "print(Sofia.person_accounts)"
   ]
  },
  {
   "cell_type": "code",
   "execution_count": 69,
   "metadata": {},
   "outputs": [
    {
     "name": "stdout",
     "output_type": "stream",
     "text": [
      "Hello Javier, here is a list of all your accounts registered with SMART FINANCIALS\n",
      "Account number : S_276156, Category : Savings, Balance : 5000.0\n",
      "Account number : P_950398, Category : Payrole, Balance : 1000\n",
      "Account number : IL_881521, Category : Low Risk Investment, Balance : 1000\n",
      "Account number : IH_730396, Category : High risk investment, Balance : 1000\n"
     ]
    },
    {
     "name": "stdin",
     "output_type": "stream",
     "text": [
      "Select one account to deposit S_276156\n",
      "Enter your desire ammount to deposit to you account S_276156 10000\n"
     ]
    },
    {
     "name": "stdout",
     "output_type": "stream",
     "text": [
      "Deposit done succesfully\n",
      "Account: S_276156, Type of account: Savings, New balance: 15000.0\n"
     ]
    }
   ],
   "source": [
    "Javier.deposit()"
   ]
  },
  {
   "cell_type": "code",
   "execution_count": 60,
   "metadata": {},
   "outputs": [
    {
     "data": {
      "text/plain": [
       "[{'S_276156': {'Name': 'Javier',\n",
       "   'Category': 'Savings',\n",
       "   'Account number': 'S_276156',\n",
       "   'Balance': 1000}},\n",
       " {'P_950398': {'Name': 'Javier',\n",
       "   'Category': 'Payrole',\n",
       "   'Account number': 'P_950398',\n",
       "   'Balance': 1000}},\n",
       " {'IL_881521': {'Name': 'Javier',\n",
       "   'Category': 'Low Risk Investment',\n",
       "   'Account number': 'IL_881521',\n",
       "   'Balance': 1000}},\n",
       " {'IH_730396': {'Name': 'Javier',\n",
       "   'Category': 'High risk investment',\n",
       "   'Account number': 'IH_730396',\n",
       "   'Balance': 1000}}]"
      ]
     },
     "execution_count": 60,
     "metadata": {},
     "output_type": "execute_result"
    }
   ],
   "source": [
    "Javier.person_accounts"
   ]
  },
  {
   "cell_type": "code",
   "execution_count": 9,
   "metadata": {
    "jupyter": {
     "source_hidden": true
    }
   },
   "outputs": [
    {
     "name": "stdout",
     "output_type": "stream",
     "text": [
      "Savings 1000\n",
      "Payrole 1000\n",
      "Low Risk Investment 1000\n",
      "High risk investment 5500.65\n"
     ]
    }
   ],
   "source": [
    "def get_accounts(name):\n",
    "    exec(\"global person_accounts; person_accounts = {0}.get_accounts()\".format(name))\n",
    "    for i in person_accounts:\n",
    "        for b in i:\n",
    "            print(i[b][\"Category\"], i[b][\"Balance\"])\n",
    "\n",
    "get_accounts(\"Javier\")"
   ]
  },
  {
   "cell_type": "code",
   "execution_count": null,
   "metadata": {
    "jupyter": {
     "source_hidden": true
    }
   },
   "outputs": [],
   "source": [
    "Javier_Delgado = Account(\"Javier Delgado\")\n",
    "Sofia_Delgado = Account(\"Sofia Delgado\")\n",
    "print(list_of_customers)\n"
   ]
  },
  {
   "cell_type": "code",
   "execution_count": null,
   "metadata": {
    "jupyter": {
     "source_hidden": true
    }
   },
   "outputs": [],
   "source": [
    "print(Javier_Delgado.name)"
   ]
  },
  {
   "cell_type": "code",
   "execution_count": null,
   "metadata": {
    "jupyter": {
     "source_hidden": true
    }
   },
   "outputs": [],
   "source": [
    "name = input()\n",
    "variable = x.replace(\" \", \"_\")\n",
    "variable = vars()[variable] = Account(name)\n"
   ]
  },
  {
   "cell_type": "code",
   "execution_count": null,
   "metadata": {
    "jupyter": {
     "source_hidden": true
    }
   },
   "outputs": [],
   "source": [
    "print(Javier_Delgado_Parra.name)"
   ]
  },
  {
   "cell_type": "code",
   "execution_count": null,
   "metadata": {
    "jupyter": {
     "source_hidden": true
    }
   },
   "outputs": [],
   "source": [
    "import tkinter as tk\n",
    "\n",
    "def get_user():\n",
    "    name = entry.get()\n",
    "    variable = name.replace(\" \", \"_\")\n",
    "    vars()[variable]  = Account(name)\n",
    "\n",
    "\n",
    "mainwindow = tk.Tk()\n",
    "mainwindow.geometry(\"640x480\")\n",
    "\n",
    "\n",
    "mainwindow.columnconfigure(0, weight =1)  # configuracion de columnas para posicionar objetos , esto puede y segun mi logica debe ir antes de programar el resto. \n",
    "mainwindow.columnconfigure(1, weight =1)\n",
    "\n",
    "mainwindow.rowconfigure(0, weight = 2)\n",
    "\n",
    "global entry\n",
    "entry = tk.Entry(mainwindow)\n",
    "entry.grid(row= 0, column = 0,  sticky =\"we\")\n",
    "\n",
    "Button_1 = tk.Button(mainwindow, text = \"OK\", relief = \"raised\",  width = 4, command = get_user)\n",
    "Button_1.grid(row = 0, column = 1)\n",
    "\n",
    "mainwindow.mainloop()\n"
   ]
  },
  {
   "cell_type": "markdown",
   "metadata": {},
   "source": [
    "##MAIN WINDOW"
   ]
  },
  {
   "cell_type": "code",
   "execution_count": 96,
   "metadata": {},
   "outputs": [
    {
     "name": "stdout",
     "output_type": "stream",
     "text": [
      "OK correct password\n"
     ]
    }
   ],
   "source": [
    "import tkinter as tk\n",
    "\n",
    "\n",
    "## CREATE MAIN_MENU ONCE LOGED IN\n",
    "\n",
    "def loged_in_window():\n",
    "    \n",
    "    user_name = entry_user.get()\n",
    "    login.destroy()\n",
    "    \n",
    "    def get_total_ammounts():\n",
    "    \n",
    "        exec(\"global client_data ; client_data = {0}.person_accounts\".format(user_name))\n",
    "\n",
    "        user_savings_ammount = []\n",
    "        user_Payrole_ammount = []\n",
    "        user_Low_Risk_Investment_ammount = []\n",
    "        user_High_Risk_Investment_ammount = []\n",
    "\n",
    "        for account in client_data:\n",
    "\n",
    "            for data in account.values():\n",
    "\n",
    "                account_type = data[\"Category\"]\n",
    "                ammount = data[\"Balance\"]\n",
    "\n",
    "                if account_type == \"Savings\":\n",
    "                    user_savings_ammount.append(ammount)\n",
    "                elif account_type == \"Payrole\":\n",
    "                    user_Payrole_ammount.append(ammount)\n",
    "                elif account_type == \"Low Risk Investment\":\n",
    "                    user_Low_Risk_Investment_ammount.append(ammount)\n",
    "                else:\n",
    "                    user_High_Risk_Investment_ammount.append(ammount)\n",
    "\n",
    "        total_ammounts = {\"Savings\": sum(user_savings_ammount), \"Payrole\": sum(user_Payrole_ammount), \"LRI\": sum(user_Low_Risk_Investment_ammount),\n",
    "                                                                                                             \"HRI\": sum(user_High_Risk_Investment_ammount)}\n",
    "        return total_ammounts\n",
    "    \n",
    "    \n",
    "    main_log_in_window = tk.Tk()\n",
    "    main_log_in_window.geometry(\"840x480\")\n",
    "    main_log_in_window.configure(bg='white')\n",
    "    main_log_in_window.title(\"Session of client {0}\".format(user_name))\n",
    "\n",
    "    main_log_in_window.columnconfigure(0, weight =1) \n",
    "    main_log_in_window.columnconfigure(1, weight =1)\n",
    "    main_log_in_window.columnconfigure(2, weight =1)\n",
    "    main_log_in_window.columnconfigure(3, weight =1)\n",
    "\n",
    "    main_log_in_window.rowconfigure(0, weight = 2)\n",
    "    main_log_in_window.rowconfigure(1, weight = 6)\n",
    "\n",
    "    hello_label = tk.Label(main_log_in_window , text=\"Hello {0}, welcome to your Smart Financials account,\\n here is a status of you resources\".format(user_name), font = \"Helvetica 14 bold italic\")\n",
    "    hello_label.grid(row= 0, column = 0,  sticky =\"nwe\",  padx =(150,60), pady = (10,0))\n",
    "\n",
    "    savings_label = tk.Label(main_log_in_window , text=\"Savings accounts\", font = \"Helvetica 13\", bg = \"white\")\n",
    "    savings_label.grid(row= 1, column = 0 , sticky =\"nw\", padx =(20,0))\n",
    "    \n",
    "    savings_ammount = tk.Label(main_log_in_window , text= locale.currency(get_total_ammounts()[\"Savings\"], grouping=True ), font = \"Helvetica 13\", bg = \"white\")\n",
    "    savings_ammount.grid(row= 1, column = 0 , sticky =\"sw\", padx =(20,0), pady = (0,210))\n",
    "\n",
    "    payrole_label = tk.Label(main_log_in_window , text=\"Payrole accounts\", font = \"Helvetica 13\", bg = \"white\")\n",
    "    payrole_label.grid(row= 1, column = 0,  sticky =\"nw\", padx =(250,0))\n",
    "    \n",
    "    payrole_ammount = tk.Label(main_log_in_window , text= locale.currency(get_total_ammounts()[\"Payrole\"], grouping=True ), font = \"Helvetica 13\", bg = \"white\")\n",
    "    payrole_ammount.grid(row= 1, column = 0 , sticky =\"sw\", padx =(250,0), pady = (0,210))\n",
    "\n",
    "    li_label = tk.Label(main_log_in_window , text=\"Low risk invest.\\naccounts\", font = \"Helvetica 13\", bg = \"white\")\n",
    "    li_label.grid(row= 1, column = 0,  sticky =\"nw\", padx =(480,0))\n",
    "    \n",
    "    li_ammount = tk.Label(main_log_in_window , text= locale.currency(get_total_ammounts()[\"LRI\"], grouping=True ), font = \"Helvetica 13\", bg = \"white\")\n",
    "    li_ammount.grid(row= 1, column = 0 , sticky =\"sw\", padx =(480,0), pady = (0,210))\n",
    "\n",
    "    hi_label = tk.Label(main_log_in_window , text=\"Hih risk invest.\\naccounts\", font = \"Helvetica 13\", bg = \"white\")\n",
    "    hi_label.grid(row= 1, column = 0,  sticky =\"nw\", padx =(700,0))\n",
    "    \n",
    "    hi_ammount = tk.Label(main_log_in_window , text= locale.currency(get_total_ammounts()[\"HRI\"], grouping=True ), font = \"Helvetica 13\", bg = \"white\")\n",
    "    hi_ammount.grid(row= 1, column = 0 , sticky =\"sw\", padx =(700,0), pady = (0,210))\n",
    "\n",
    "    main_log_in_window.mainloop()\n",
    "\n",
    "## CREATE LOG IN WINDOW:\n",
    "\n",
    "def log_in_function():\n",
    "    \n",
    "    user = entry_user.get()\n",
    "    var_user = user.replace(\" \", \"_\")\n",
    "    log_in_password = entry_passwword.get()\n",
    "    exec(\"global final_password; final_password = {0}.get_password()\".format(var_user))\n",
    "    \n",
    "    if final_password == log_in_password:\n",
    "        wrong_user_data_text.set(\"\")\n",
    "        print(\"OK correct password\")\n",
    "        loged_in_window()\n",
    "        \n",
    "    else:\n",
    "        wrong_user_data_text.set(\"User or password are incorrect, please try again\")\n",
    "        print(\":(\")\n",
    "\n",
    "global login        \n",
    "login = tk.Tk()\n",
    "login.geometry(\"640x480\")\n",
    "login.title(\"PAGE LOG IN\")\n",
    "\n",
    "\n",
    "login.columnconfigure(0, weight =3)  \n",
    "login.columnconfigure(1, weight =5)\n",
    "\n",
    "login.rowconfigure(0, weight = 1)\n",
    "login.rowconfigure(1, weight = 2)\n",
    "login.rowconfigure(2, weight = 2)\n",
    "login.rowconfigure(3, weight = 2)\n",
    "\n",
    "\n",
    "welcome_label = tk.Label(login , text=\"WELCOME TO SMART FINANCIALS\", font = \"Helvetica 16 bold italic\")\n",
    "welcome_label.grid(row= 0, column = 1,  sticky =\"nwe\",  padx =(0,50), pady = (20,0))\n",
    "\n",
    "user_label = tk.Label(login , text=\"User Name\")\n",
    "user_label.grid(row= 1, column = 1,  sticky =\"swe\",  padx =(0,50), pady = (30,0))\n",
    "\n",
    "password_label = tk.Label(login , text=\"Password\")\n",
    "password_label.grid(row= 2, column = 1,  sticky =\"nwe\",  padx =(0,45), pady = (30,0))\n",
    "\n",
    "global entry_user\n",
    "entry_user= tk.Entry(login)\n",
    "entry_user.grid(row= 1, column = 1,  sticky =\"swe\",  padx =(300,30), pady = (30,0))\n",
    "\n",
    "global entry_passwword\n",
    "entry_passwword = tk.Entry(login,  show=\"*\")\n",
    "entry_passwword.grid(row= 2, column = 1,  sticky =\"nwe\", padx =(300,30), pady = (30,0))\n",
    "\n",
    "Button_1 = tk.Button(login, text = \"Log in\", relief = \"raised\",  width = 10, command = log_in_function)\n",
    "Button_1.grid(row = 3, column = 1, sticky =\"ne\", padx = (0,30), pady = (0,20))\n",
    "\n",
    "wrong_user_data_text = tk.StringVar()\n",
    "result = tk.Label(login,  textvariable = wrong_user_data_text)\n",
    "result.grid(row=3 , column= 1,  sticky =\"se\", padx = (0,30), pady = (0,90))\n",
    "\n",
    "login.mainloop()\n"
   ]
  },
  {
   "cell_type": "code",
   "execution_count": null,
   "metadata": {
    "jupyter": {
     "source_hidden": true
    }
   },
   "outputs": [],
   "source": [
    "to_test = Javier.password\n",
    "to_test"
   ]
  },
  {
   "cell_type": "code",
   "execution_count": null,
   "metadata": {
    "jupyter": {
     "source_hidden": true
    }
   },
   "outputs": [],
   "source": [
    "exec(\"real_password = {0}.password\".format(\"Javier\"))\n",
    "print(real_password)"
   ]
  },
  {
   "cell_type": "code",
   "execution_count": null,
   "metadata": {
    "jupyter": {
     "source_hidden": true
    }
   },
   "outputs": [],
   "source": [
    "Sofia = Account(\"Sofia\")"
   ]
  },
  {
   "cell_type": "code",
   "execution_count": null,
   "metadata": {
    "jupyter": {
     "source_hidden": true
    }
   },
   "outputs": [],
   "source": [
    "def get_pass(name):\n",
    "    global real_pass\n",
    "    real_pass = exec(\"real_pass = '{0}.password'.format(name)\")\n",
    "    print(real_pass)\n",
    "    return(real_pass)\n",
    "\n",
    "get_pass(\"Sofia\")"
   ]
  },
  {
   "cell_type": "code",
   "execution_count": null,
   "metadata": {
    "jupyter": {
     "source_hidden": true
    }
   },
   "outputs": [],
   "source": [
    "def exec_pass(name):\n",
    "    #exec(\"real_pass = 'Something'\")\n",
    "    global password\n",
    "    password = exec(\"vars()[name].password\")\n",
    "    print(password)\n",
    "\n",
    "exec_pass(\"Sofia\")"
   ]
  },
  {
   "cell_type": "code",
   "execution_count": null,
   "metadata": {
    "jupyter": {
     "source_hidden": true
    }
   },
   "outputs": [],
   "source": [
    "name = \"Sofia\"\n",
    "print(vars()[name].password)"
   ]
  },
  {
   "cell_type": "code",
   "execution_count": null,
   "metadata": {
    "jupyter": {
     "source_hidden": true
    }
   },
   "outputs": [],
   "source": [
    "def better1():\n",
    "    d = {}\n",
    "    exec(\"x = Sofia.password\", d)\n",
    "    return d['x']\n",
    "\n",
    "print(better1())\n"
   ]
  },
  {
   "cell_type": "code",
   "execution_count": null,
   "metadata": {
    "jupyter": {
     "source_hidden": true
    }
   },
   "outputs": [],
   "source": [
    "def get_password(name):\n",
    "    def get_name():\n",
    "        name = name\n",
    "        p = {}\n",
    "        exec(\"name = get_name()\\npas = 'hola {0}'.format(name)\", p)\n",
    "        return p['pass']\n",
    "\n",
    "print(get_password(\"Javier\"))"
   ]
  },
  {
   "cell_type": "code",
   "execution_count": null,
   "metadata": {
    "jupyter": {
     "source_hidden": true
    }
   },
   "outputs": [],
   "source": [
    "print(\"name = name\\npas = 'hola {0}'.format(name)\")"
   ]
  },
  {
   "cell_type": "code",
   "execution_count": null,
   "metadata": {
    "jupyter": {
     "source_hidden": true
    }
   },
   "outputs": [],
   "source": [
    "Sofia.password"
   ]
  },
  {
   "cell_type": "code",
   "execution_count": null,
   "metadata": {
    "jupyter": {
     "source_hidden": true
    }
   },
   "outputs": [],
   "source": [
    "d = {}\n",
    "exec(\"x = Javier.get_password()\", d)\n",
    "d['x']"
   ]
  },
  {
   "cell_type": "code",
   "execution_count": null,
   "metadata": {
    "jupyter": {
     "source_hidden": true
    }
   },
   "outputs": [],
   "source": [
    "a = vars()['Javier'].password\n",
    "print(a)"
   ]
  },
  {
   "cell_type": "code",
   "execution_count": null,
   "metadata": {
    "jupyter": {
     "source_hidden": true
    }
   },
   "outputs": [],
   "source": [
    "Javier.get_password()"
   ]
  },
  {
   "cell_type": "code",
   "execution_count": null,
   "metadata": {
    "jupyter": {
     "source_hidden": true
    }
   },
   "outputs": [],
   "source": [
    "def testing():\n",
    "    exec(\"x = Javier.get_password()\")\n",
    "    return x\n",
    "\n",
    "testing()"
   ]
  },
  {
   "cell_type": "code",
   "execution_count": null,
   "metadata": {
    "jupyter": {
     "source_hidden": true
    }
   },
   "outputs": [],
   "source": [
    "def testing1(name):\n",
    "    initial = input()\n",
    "    exec(\"d = {0}.get_password()\".format(name))\n",
    "    if d == initial:\n",
    "        print(\"OK\")\n",
    "    else:\n",
    "        print(\":(\")\n",
    "testing1(\"Sofia\")\n",
    "\n",
    "#exec(\"{0}.deposit(account_to_transfer, ammount)\".format(beneficiary_name))"
   ]
  },
  {
   "cell_type": "code",
   "execution_count": null,
   "metadata": {
    "jupyter": {
     "source_hidden": true
    }
   },
   "outputs": [],
   "source": [
    "old_string = \"didn't work\"\n",
    "new_string = \"worked\"\n",
    "\n",
    "def function():\n",
    "    exec(\"global old_string; old_string = new_string\")\n",
    "    print(old_string)\n",
    "\n",
    "function()\n"
   ]
  },
  {
   "cell_type": "code",
   "execution_count": null,
   "metadata": {
    "jupyter": {
     "source_hidden": true
    }
   },
   "outputs": [],
   "source": [
    "def log_in_test(name):\n",
    "    log_pass = input()\n",
    "    exec(\"global final_password; final_password = {0}.get_password()\".format(name))\n",
    "    print(final_password)\n",
    "log_in_test(\"Sofia\")"
   ]
  },
  {
   "cell_type": "code",
   "execution_count": 175,
   "metadata": {
    "jupyter": {
     "source_hidden": true
    }
   },
   "outputs": [],
   "source": [
    "main_log_in_window = tk.Tk()\n",
    "main_log_in_window.geometry(\"840x480\")\n",
    "main_log_in_window.configure(bg='white')\n",
    "main_log_in_window.title(\"Session of client {0}\".format(user_name))\n",
    "\n",
    "main_log_in_window.columnconfigure(0, weight =1) \n",
    "main_log_in_window.columnconfigure(1, weight =1)\n",
    "main_log_in_window.columnconfigure(2, weight =1)\n",
    "main_log_in_window.columnconfigure(3, weight =1)\n",
    "\n",
    "main_log_in_window.rowconfigure(0, weight = 2)\n",
    "main_log_in_window.rowconfigure(1, weight = 6)\n",
    "\n",
    "hello_label = tk.Label(main_log_in_window , text=\"Hello {0}, welcome to your Smart Financials account,\\n here is a status of you resources\".format(user_name), font = \"Helvetica 14 bold italic\")\n",
    "hello_label.grid(row= 0, column = 0,  sticky =\"nwe\",  padx =(150,60), pady = (10,0))\n",
    "    \n",
    "savings_label = tk.Label(main_log_in_window , text=\"Savings accounts\", font = \"Helvetica 13\", bg = \"white\")\n",
    "savings_label.grid(row= 1, column = 0 , sticky =\"nw\", padx =(20,0))\n",
    "    \n",
    "payrole_label = tk.Label(main_log_in_window , text=\"Payrole accounts\", font = \"Helvetica 13\", bg = \"white\")\n",
    "payrole_label.grid(row= 1, column = 0,  sticky =\"nw\", padx =(250,0))\n",
    "\n",
    "li_label = tk.Label(main_log_in_window , text=\"Low risk invest.\\naccounts\", font = \"Helvetica 13\", bg = \"white\")\n",
    "li_label.grid(row= 1, column = 0,  sticky =\"nw\", padx =(480,0))\n",
    "\n",
    "hi_label = tk.Label(main_log_in_window , text=\"Hih risk invest.\\naccounts\", font = \"Helvetica 13\", bg = \"white\")\n",
    "hi_label.grid(row= 1, column = 0,  sticky =\"nw\", padx =(700,0))\n",
    "    \n",
    "    \n",
    "    \n",
    "#Button_1 = tk.Button(main_log_in_window, text = \"test\", relief = \"raised\",  width = 10, command = \"TBD\") ## TO CHANGE\n",
    "#Button_1.grid(row = 1, column = 1, sticky =\"ne\", padx = (0,30), pady = (0,20))\n",
    "main_log_in_window.mainloop()"
   ]
  },
  {
   "cell_type": "code",
   "execution_count": 9,
   "metadata": {
    "collapsed": true,
    "jupyter": {
     "outputs_hidden": true,
     "source_hidden": true
    }
   },
   "outputs": [
    {
     "name": "stdout",
     "output_type": "stream",
     "text": [
      "global final_password; final_password = {0}.get_password()\n"
     ]
    }
   ],
   "source": [
    "print(\"global final_password; final_password = {0}.get_password()\")"
   ]
  },
  {
   "cell_type": "code",
   "execution_count": null,
   "metadata": {},
   "outputs": [],
   "source": []
  },
  {
   "cell_type": "code",
   "execution_count": 73,
   "metadata": {},
   "outputs": [
    {
     "name": "stdin",
     "output_type": "stream",
     "text": [
      "Select type of transfer: Internal(I) or External(E):  I\n"
     ]
    },
    {
     "name": "stdout",
     "output_type": "stream",
     "text": [
      "Hello Javier please select an account transfer founds to\n",
      "Account number : S_276156, Category : Savings , Balance : 15000.0\n",
      "Account number : P_950398, Category : Payrole , Balance : 1000\n",
      "Account number : IL_881521, Category : Low Risk Investment , Balance : 1000\n",
      "Account number : IH_730396, Category : High risk investment , Balance : 1000\n"
     ]
    },
    {
     "name": "stdin",
     "output_type": "stream",
     "text": [
      "Type an account to transfer P_950398\n",
      "Type an ammount to transfer 4000\n",
      "Please select an origin account S_276156\n"
     ]
    },
    {
     "name": "stdout",
     "output_type": "stream",
     "text": [
      "Thank you Javier, transfer done succesfurly from account S_276156 to account P_950398\n",
      "Balance of accounts involved in transaction summary:\n",
      "Origin account: S_276156, Balance: 11000.0\n",
      "Destination account: P_950398, Balance: 5000.0\n"
     ]
    }
   ],
   "source": [
    "Javier.transfer_money()"
   ]
  },
  {
   "cell_type": "code",
   "execution_count": 89,
   "metadata": {},
   "outputs": [],
   "source": [
    "def get_total_ammounts():\n",
    "    \n",
    "    exec(\"global client_data ; client_data = {0}.person_accounts\".format(\"Javier\"))\n",
    "\n",
    "    user_savings_ammount = []\n",
    "    user_Payrole_ammount = []\n",
    "    user_Low_Risk_Investment_ammount = []\n",
    "    user_High_Risk_Investment_ammount = []\n",
    "\n",
    "    for account in client_data:\n",
    "\n",
    "        for data in account.values():\n",
    "\n",
    "            account_type = data[\"Category\"]\n",
    "            ammount = data[\"Balance\"]\n",
    "\n",
    "            if account_type == \"Savings\":\n",
    "                user_savings_ammount.append(ammount)\n",
    "            elif account_type == \"Payrole\":\n",
    "                user_Payrole_ammount.append(ammount)\n",
    "            elif account_type == \"Low Risk Investment\":\n",
    "                user_Low_Risk_Investment_ammount.append(ammount)\n",
    "            else:\n",
    "                user_High_Risk_Investment_ammount.append(ammount)\n",
    "\n",
    "    total_ammounts = {\"Savings\": sum(user_savings_ammount), \"Payrole\": sum(user_Payrole_ammount), \"LRI\": sum(user_Low_Risk_Investment_ammount),\n",
    "                                                                                                        \"HRI\": sum(user_High_Risk_Investment_ammount)}\n",
    "    print(client_data)\n",
    "    return total_ammounts\n",
    "\n",
    "\n",
    "        \n",
    "            "
   ]
  },
  {
   "cell_type": "code",
   "execution_count": 90,
   "metadata": {},
   "outputs": [
    {
     "name": "stdout",
     "output_type": "stream",
     "text": [
      "[{'S_276156': {'Name': 'Javier', 'Category': 'Savings', 'Account number': 'S_276156', 'Balance': 11000.0}}, {'P_950398': {'Name': 'Javier', 'Category': 'Payrole', 'Account number': 'P_950398', 'Balance': 5000.0}}, {'IL_881521': {'Name': 'Javier', 'Category': 'Low Risk Investment', 'Account number': 'IL_881521', 'Balance': 1000}}, {'IH_730396': {'Name': 'Javier', 'Category': 'High risk investment', 'Account number': 'IH_730396', 'Balance': 1000}}]\n"
     ]
    },
    {
     "data": {
      "text/plain": [
       "{'Savings': 11000.0, 'Payrole': 5000.0, 'LRI': 1000, 'HRI': 1000}"
      ]
     },
     "execution_count": 90,
     "metadata": {},
     "output_type": "execute_result"
    }
   ],
   "source": [
    "get_total_ammounts()"
   ]
  },
  {
   "cell_type": "code",
   "execution_count": 32,
   "metadata": {},
   "outputs": [
    {
     "name": "stdout",
     "output_type": "stream",
     "text": [
      "Spanish_Mexico.1252\n",
      "$188518982.18\n",
      "$188,518,982.18\n"
     ]
    }
   ],
   "source": [
    "import locale\n",
    "print(locale.setlocale(locale.LC_ALL, '' ))\n",
    "print(locale.currency( 188518982.18))\n",
    "print(locale.currency( 188518982.18, grouping=True ))\n"
   ]
  },
  {
   "cell_type": "code",
   "execution_count": 64,
   "metadata": {},
   "outputs": [
    {
     "name": "stdout",
     "output_type": "stream",
     "text": [
      "{'Savings': 1000, 'Payrole': 1000, 'LRI': 1000, 'HRI': 1000}\n"
     ]
    }
   ],
   "source": [
    "exec(\"client_data = {0}.person_accounts\".format(\"Javier\"))\n",
    "\n",
    "user_savings_ammount = []\n",
    "user_Payrole_ammount = []\n",
    "user_Low_Risk_Investment_ammount = []\n",
    "user_High_Risk_Investment_ammount = []\n",
    "\n",
    "for account in client_data:\n",
    "    for data in account.values():\n",
    "        account_type = data[\"Category\"]\n",
    "        ammount = data[\"Balance\"]\n",
    "\n",
    "        if account_type == \"Savings\":\n",
    "            user_savings_ammount.append(ammount)\n",
    "        elif account_type == \"Payrole\":\n",
    "            user_Payrole_ammount.append(ammount)\n",
    "        elif account_type == \"Low Risk Investment\":\n",
    "            user_Low_Risk_Investment_ammount.append(ammount)\n",
    "        else:\n",
    "            user_High_Risk_Investment_ammount.append(ammount)\n",
    "\n",
    "total_ammounts = {\"Savings\": sum(user_savings_ammount), \"Payrole\": sum(user_Payrole_ammount), \"LRI\": sum(user_Low_Risk_Investment_ammount),\n",
    "                                                                                                         \"HRI\": sum(user_High_Risk_Investment_ammount)}\n",
    "print(total_ammounts)"
   ]
  },
  {
   "cell_type": "code",
   "execution_count": 95,
   "metadata": {},
   "outputs": [
    {
     "name": "stdout",
     "output_type": "stream",
     "text": [
      "Hello Javier, here is a list of all your Savings and Payrole accounts registered with SMART FINANCIALS.\n",
      "Notice that you can't withdrawal from investments accounts, for that purpose transfer founds from investment accounts to these withdrawal allowed accounts\n",
      "\n",
      "Account number : S_276156, Category : Savings , Balance : 11000.0\n",
      "Account number : P_950398, Category : Payrole , Balance : 5000.0\n"
     ]
    },
    {
     "name": "stdin",
     "output_type": "stream",
     "text": [
      "Select one account to deposit S_276156\n",
      "Enter your desire ammount to withdrawal from your account S_276156 4331.56\n"
     ]
    },
    {
     "name": "stdout",
     "output_type": "stream",
     "text": [
      "Withdrawal done succesfully\n",
      "Account: S_276156, Type of account: Savings, New balance: 6668.44\n"
     ]
    }
   ],
   "source": [
    "Javier.withdrawal()"
   ]
  },
  {
   "cell_type": "code",
   "execution_count": null,
   "metadata": {},
   "outputs": [],
   "source": []
  }
 ],
 "metadata": {
  "kernelspec": {
   "display_name": "Python 3",
   "language": "python",
   "name": "python3"
  },
  "language_info": {
   "codemirror_mode": {
    "name": "ipython",
    "version": 3
   },
   "file_extension": ".py",
   "mimetype": "text/x-python",
   "name": "python",
   "nbconvert_exporter": "python",
   "pygments_lexer": "ipython3",
   "version": "3.7.6"
  }
 },
 "nbformat": 4,
 "nbformat_minor": 4
}
