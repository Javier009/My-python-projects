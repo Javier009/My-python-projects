{
 "cells": [
  {
   "cell_type": "markdown",
   "id": "315312df-8b2e-4ab4-8b0c-0bd2fa5c1ac1",
   "metadata": {},
   "source": [
    "# Competitive analysis with SimilarWeb API\n",
    "\n",
    "## Notes:\n",
    "\n",
    "    1) Top websites pero country are from the last momnthe avilable and seems that is not allowed to have them for aggregated time frames\n",
    "    2) Relevant sections of the API for this project: Top domains  per country, Total visits, Avg. session duration in Mobile and desktop (two different sections)\n",
    "    3) Data granularity: Country-->Monthly.\n",
    "    4) Data collected: For 50 countries, 6 selected websites, top 10 other websites (exlude adult websites): total visits, average session duration\n",
    "\n",
    "## Data considerations:\n",
    "              \n",
    "   ### Data structures hits:\n",
    "\n",
    "        1) Granularity: Monthly, 49 countries since China is not avilable in SimilarWeb and also not very relevant for Google Busines\n",
    "        2) Timeframe: 2019-09 to 2022-09 --> 36 months \n",
    "        3) Top 10 + 8 websites of specified cohort for 49 countries = 49 hits\n",
    "        4) Total visits 18 websites * 50 countries = 882 hits\n",
    "        5) Desktop Average session duration * 50 countries = 882 hits\n",
    "        6) Mobile Average session duration * 50 countries = 882 hits\n",
    "        7) Total hits = 2695\n",
    "        8) Hits for testing = 300\n",
    "        \n",
    "    ## Data structures final tables shapes to be stored in csv files :\n",
    "\n",
    "        1) Granularity: Monthly, 49 countries since China is not avilable in SimilarWeb and also not very relevant for Google Busines\n",
    "        2) Timeframe: 2019-09 to 2022-09 --> 36 months \n",
    "        3) Total visits 17 websites * 50 * 36 months = 31752 rows\n",
    "        4) Average session duration 17 websites * 50 * 36 months = 29988 rows * 2 (Desktop and Mobile) =  63505 rows\n",
    "        \n",
    "## Process:\n",
    "\n",
    "   ### Countries considereed:\n",
    "\n",
    "     1) From Google Ecosystem analysis extract top 50 countries, store them in a CSV file and upload it file to this notebook\n",
    "     2) Import SimilarWeb countries provided by the team in a CSV file\n",
    "     2.1) Modify Google top countries to match SimilarWeb string pattern to be modify at end stage\n",
    "     3) Verify that Google top 50 countries are avilable in SimilarWeb countries\n",
    "   ### Websites considered:\n",
    "   \n",
    "     1) Build a data structure (list, tuple whatever) with Websites present in each country no matter the ranking posisiton:\n",
    "     \n",
    "         reddit.com\n",
    "         tiktok.com\n",
    "         instagram.com\n",
    "         facebook.com\n",
    "         amazon.com\n",
    "         youtube.com\n",
    "         \n",
    "     2) Exlude Adult website from the analysis:\n",
    "         Build a list of XXX websites in the world to be exluded using Simi"
   ]
  },
  {
   "cell_type": "markdown",
   "id": "66b2b570-2525-4d39-a0b3-a5a25cfc0813",
   "metadata": {},
   "source": [
    "## Libraries imports"
   ]
  },
  {
   "cell_type": "code",
   "execution_count": 80,
   "id": "a49ec928-4c55-47bd-9270-64cedde29d37",
   "metadata": {},
   "outputs": [],
   "source": [
    "import requests\n",
    "import pandas as pd\n",
    "import numpy as np\n",
    "from matplotlib import pyplot as plt\n",
    "import seaborn as sns\n",
    "import warnings\n",
    "warnings.filterwarnings('ignore')"
   ]
  },
  {
   "cell_type": "markdown",
   "id": "bc9f91e0-1284-445f-8487-2d6225826dab",
   "metadata": {
    "tags": []
   },
   "source": [
    "## Import Google countries to be reviewed in the SimilarWeb Api\n",
    "Use country_code_lower_SW for the iteration in the for loop"
   ]
  },
  {
   "cell_type": "markdown",
   "id": "ba0758a2-8d39-40ef-a06a-56e54b59e0f0",
   "metadata": {
    "tags": []
   },
   "source": [
    "## API hits to extract top 10K adult websites worldwide that will be excluded from the analyses \n",
    "### Run this section once since data is stored in a excel file. Unless the month ended and we have 3000 hits again"
   ]
  },
  {
   "cell_type": "code",
   "execution_count": 84,
   "id": "5f9b88b5-64b9-4084-a8ff-9a35c5f52a16",
   "metadata": {},
   "outputs": [],
   "source": [
    "#Adult web sites to be exluded ## TESTING to see if both geos criteria show same data BEFORE RUNNING API FOR TOP 100 PAGES\n",
    "\n",
    "access_key = '9095e89d0b5649b0a1a7d2bb9c2c5816'\n",
    "all_geos = ('world', 'worldwide')\n",
    "\n",
    "adult_websites_api_path_one = f'https://api.similarweb.com/v1/website/$Adult/topsites/total?api_key={access_key}&start_date=2022-09&end_date=2022-09&country={all_geos[0]}&format=json&page=1'\n",
    "adult_websites_api_path_two = f'https://api.similarweb.com/v1/website/$Adult/topsites/total?api_key={access_key}&start_date=2022-09&end_date=2022-09&country={all_geos[1]}&format=json&page=1'\n",
    "\n",
    "adult_websites_api_path_option_one = requests.get(adult_websites_api_path_one).json()\n",
    "adult_websites_api_path_option_two = requests.get(adult_websites_api_path_two).json()"
   ]
  },
  {
   "cell_type": "code",
   "execution_count": 90,
   "id": "d31f5215-5896-453b-bc65-54111d40863b",
   "metadata": {},
   "outputs": [],
   "source": [
    "all_geos = ('world', 'worldwide')\n",
    "adult_websites_api_path_two = f'https://api.similarweb.com/v1/website/$Adult/topsites/total?api_key={access_key}&start_date=2022-09&end_date=2022-09&country={all_geos[1]}&format=json&page=1'\n",
    "adult_websites_api_path_option_two = requests.get(adult_websites_api_path_two).json()"
   ]
  },
  {
   "cell_type": "code",
   "execution_count": 121,
   "id": "7b67ec05-487e-4c00-a4e0-eda40b19c417",
   "metadata": {
    "tags": []
   },
   "outputs": [
    {
     "name": "stdout",
     "output_type": "stream",
     "text": [
      "OK! No data in option 2!\n"
     ]
    }
   ],
   "source": [
    "inconcistencies = []\n",
    "\n",
    "\n",
    "if 'No data for requested country' in adult_websites_api_path_option_two['meta']['error_message']:\n",
    "    print('OK! No data in option 2!')\n",
    "else:\n",
    "    for web_site_dict in  adult_websites_api_path_option_one['top_sites']:\n",
    "        rank = web_site_dict['rank']\n",
    "        domain_option_one = web_site_dict['domain']\n",
    "\n",
    "        domain_option_two = [ w for w in [i for i in adult_websites_api_path_option_two['top_sites'] ] if w['rank'] == rank ][0]['domain']\n",
    "\n",
    "        if domain_option_one == domain_option_two:\n",
    "            pass\n",
    "        else:\n",
    "            inconcistencies.append((1 (domain_option_one, domain_option_two) )) \n",
    "\n",
    "    if len(inconcistencies) == 0:\n",
    "        print('OK! Both sources are the same use option 1 or 2')\n",
    "    else:\n",
    "        print(f'Total inconcistencies = {sum([i[0] for i in inconcistencies])}')\n",
    "        for inc in inconcistencies:\n",
    "            print(inc[1])   "
   ]
  },
  {
   "cell_type": "code",
   "execution_count": 120,
   "id": "3c44605e-5051-40b9-af34-e21b54171daa",
   "metadata": {},
   "outputs": [
    {
     "data": {
      "text/plain": [
       "\"No data for requested country. Issue a GET request to the 'describe' endpoint on the API you're using to list its supported countries. (e.g. for descrption of [...]/total-traffic-and-engagement/visits?[...] call [...]/total-traffic-and-engagement/describe)\""
      ]
     },
     "execution_count": 120,
     "metadata": {},
     "output_type": "execute_result"
    }
   ],
   "source": [
    "adult_websites_api_path_option_two['meta']['error_message']"
   ]
  },
  {
   "cell_type": "code",
   "execution_count": null,
   "id": "1135d67d-91e4-4113-89fd-70a8ea380808",
   "metadata": {},
   "outputs": [
    {
     "data": {
      "text/plain": [
       "{'meta': {'request': {'main_domain_only': False,\n",
       "   'page': 1,\n",
       "   'show_verified': False,\n",
       "   'state': None,\n",
       "   'format': 'json',\n",
       "   'domain': '$Adult',\n",
       "   'start_date': '2022-09-01',\n",
       "   'end_date': '2022-09-30',\n",
       "   'country': 'worldwide'},\n",
       "  'status': 'Error',\n",
       "  'error_code': 103,\n",
       "  'error_message': \"No data for requested country. Issue a GET request to the 'describe' endpoint on the API you're using to list its supported countries. (e.g. for descrption of [...]/total-traffic-and-engagement/visits?[...] call [...]/total-traffic-and-engagement/describe)\"}}"
      ]
     },
     "execution_count": 91,
     "metadata": {},
     "output_type": "execute_result"
    }
   ],
   "source": [
    "#Output from option 2 for double check, error_message should be recived\n",
    "\n",
    "adult_websites_api_path_option_two"
   ]
  },
  {
   "cell_type": "code",
   "execution_count": 94,
   "id": "d775a662-288a-46d5-9788-c5f4ce7849ae",
   "metadata": {
    "collapsed": true,
    "jupyter": {
     "outputs_hidden": true
    },
    "tags": []
   },
   "outputs": [
    {
     "data": {
      "text/plain": [
       "{'meta': {'request': {'main_domain_only': False,\n",
       "   'page': 100,\n",
       "   'show_verified': False,\n",
       "   'state': None,\n",
       "   'format': 'json',\n",
       "   'domain': '$Adult',\n",
       "   'start_date': '2022-09-01',\n",
       "   'end_date': '2022-09-30',\n",
       "   'country': 'world'},\n",
       "  'status': 'Success',\n",
       "  'last_updated': '2022-09-30'},\n",
       " 'top_sites': [{'rank': 9901, 'domain': 'videkilany.hu'},\n",
       "  {'rank': 9902, 'domain': 'momoiro-ch.com'},\n",
       "  {'rank': 9903, 'domain': 'eronb.net'},\n",
       "  {'rank': 9904, 'domain': 'liruch.com'},\n",
       "  {'rank': 9905, 'domain': 'redporntube.xxx'},\n",
       "  {'rank': 9906, 'domain': 'hotvalencia.es'},\n",
       "  {'rank': 9907, 'domain': 'h0930.com'},\n",
       "  {'rank': 9908, 'domain': 'xxxhottgirls.com'},\n",
       "  {'rank': 9909, 'domain': 'mousouzoku-av.com'},\n",
       "  {'rank': 9910, 'domain': 'avlanga3.com'},\n",
       "  {'rank': 9911, 'domain': 'ssanai9.com'},\n",
       "  {'rank': 9912, 'domain': 'pornolabe.top'},\n",
       "  {'rank': 9913, 'domain': 'hot-teens.sexy'},\n",
       "  {'rank': 9914, 'domain': 'bw7.com'},\n",
       "  {'rank': 9915, 'domain': 'book18.org'},\n",
       "  {'rank': 9916, 'domain': 'afo-news.com'},\n",
       "  {'rank': 9917, 'domain': 'adultload.ws'},\n",
       "  {'rank': 9918, 'domain': 'novinhafudendo.com'},\n",
       "  {'rank': 9919, 'domain': 'hattie.info'},\n",
       "  {'rank': 9920, 'domain': 'escort13.com'},\n",
       "  {'rank': 9921, 'domain': 'bongacams19.com'},\n",
       "  {'rank': 9922, 'domain': 'stunning18.com'},\n",
       "  {'rank': 9923, 'domain': 'sese277.info'},\n",
       "  {'rank': 9924, 'domain': 'pornoschlange.com'},\n",
       "  {'rank': 9925, 'domain': 'fanqianglu.com'},\n",
       "  {'rank': 9926, 'domain': 'onlytease.com'},\n",
       "  {'rank': 9927, 'domain': 'sztar.com'},\n",
       "  {'rank': 9928, 'domain': 'xxx-porn.video'},\n",
       "  {'rank': 9929, 'domain': 'frauporn.com'},\n",
       "  {'rank': 9930, 'domain': 'erotiqlinks.com'},\n",
       "  {'rank': 9931, 'domain': 'xemphimgay.com'},\n",
       "  {'rank': 9932, 'domain': 'dropped-click.com'},\n",
       "  {'rank': 9933, 'domain': 'javip.net'},\n",
       "  {'rank': 9934, 'domain': 'bjhub.me'},\n",
       "  {'rank': 9935, 'domain': 'hmangamatome.net'},\n",
       "  {'rank': 9936, 'domain': 'meinsex.video'},\n",
       "  {'rank': 9937, 'domain': 'bdsm.pl'},\n",
       "  {'rank': 9938, 'domain': 'fob.jp'},\n",
       "  {'rank': 9939, 'domain': 'japanska-xxx.com'},\n",
       "  {'rank': 9940, 'domain': 'xxxstream.me'},\n",
       "  {'rank': 9941, 'domain': 'sancai.co'},\n",
       "  {'rank': 9942, 'domain': 'nippona7n2theum.com'},\n",
       "  {'rank': 9943, 'domain': 'nonuforum.com'},\n",
       "  {'rank': 9944, 'domain': 'panchira.tokyo'},\n",
       "  {'rank': 9945, 'domain': 'bizarropornos.com'},\n",
       "  {'rank': 9946, 'domain': 'thestylesblog.com'},\n",
       "  {'rank': 9947, 'domain': 'busty-legends.com'},\n",
       "  {'rank': 9948, 'domain': 'femdomz.com'},\n",
       "  {'rank': 9949, 'domain': 'ck-download.com'},\n",
       "  {'rank': 9950, 'domain': 'sexjav.tv'},\n",
       "  {'rank': 9951, 'domain': 'blendporn.com'},\n",
       "  {'rank': 9952, 'domain': 'sexphotos.pw'},\n",
       "  {'rank': 9953, 'domain': 'sexnguoithu.xyz'},\n",
       "  {'rank': 9954, 'domain': 'intervalue.net'},\n",
       "  {'rank': 9955, 'domain': 'new-akiba.com'},\n",
       "  {'rank': 9956, 'domain': 'youngtube.tw'},\n",
       "  {'rank': 9957, 'domain': 'adult-gungun.com'},\n",
       "  {'rank': 9958, 'domain': 'officialblog.jp'},\n",
       "  {'rank': 9959, 'domain': 'sweetgirls.cc'},\n",
       "  {'rank': 9960, 'domain': 'i-like-movie.com'},\n",
       "  {'rank': 9961, 'domain': 'peepeebabes.club'},\n",
       "  {'rank': 9962, 'domain': 'cam2cam.com'},\n",
       "  {'rank': 9963, 'domain': 'woopeedoopcmwhrs.xyz'},\n",
       "  {'rank': 9964, 'domain': 'brasilincesto.com'},\n",
       "  {'rank': 9965, 'domain': 'lemmecheck.com'},\n",
       "  {'rank': 9966, 'domain': 'ruzovyslon.cz'},\n",
       "  {'rank': 9967, 'domain': 'erocafe.net'},\n",
       "  {'rank': 9968, 'domain': 'nijifeti.com'},\n",
       "  {'rank': 9969, 'domain': 'rdvunique.com'},\n",
       "  {'rank': 9970, 'domain': 'erodan4545.blog.jp'},\n",
       "  {'rank': 9971, 'domain': 'hqpornbook.click'},\n",
       "  {'rank': 9972, 'domain': 'ad-seek.jp'},\n",
       "  {'rank': 9973, 'domain': 'movie.morogate.com'},\n",
       "  {'rank': 9974, 'domain': 'taraa.xyz'},\n",
       "  {'rank': 9975, 'domain': 'jk-refre.tokyo'},\n",
       "  {'rank': 9976, 'domain': 'shico.xyz'},\n",
       "  {'rank': 9977, 'domain': 'newsnow-2ch.com'},\n",
       "  {'rank': 9978, 'domain': 'uraaka-joshi.com'},\n",
       "  {'rank': 9979, 'domain': 'magamagan.com'},\n",
       "  {'rank': 9980, 'domain': 'spice-tv.jp'},\n",
       "  {'rank': 9981, 'domain': 'gportal.hu'},\n",
       "  {'rank': 9982, 'domain': 'lovepop.net'},\n",
       "  {'rank': 9983, 'domain': 'stasyq.com'},\n",
       "  {'rank': 9984, 'domain': 'mega-porno.me'},\n",
       "  {'rank': 9985, 'domain': 'pocha3.com'},\n",
       "  {'rank': 9986, 'domain': 's-cute.com'},\n",
       "  {'rank': 9987, 'domain': 'tube-dl.icu'},\n",
       "  {'rank': 9988, 'domain': 'mylocaldates1s.com'},\n",
       "  {'rank': 9989, 'domain': 'porno-zhena.pro'},\n",
       "  {'rank': 9990, 'domain': 'bhauja.com'},\n",
       "  {'rank': 9991, 'domain': 'mankist.com'},\n",
       "  {'rank': 9992, 'domain': 'sssrank-girl.com'},\n",
       "  {'rank': 9993, 'domain': 'minipussy.net'},\n",
       "  {'rank': 9994, 'domain': 'babeuniversum.com'},\n",
       "  {'rank': 9995, 'domain': 'tkml.live'},\n",
       "  {'rank': 9996, 'domain': 'moro-douga.link'},\n",
       "  {'rank': 9997, 'domain': 'umechan.net'},\n",
       "  {'rank': 9998, 'domain': 'pimp61.net'},\n",
       "  {'rank': 9999, 'domain': 'baiselibre.com'},\n",
       "  {'rank': 10000, 'domain': 'sextingbook.com'}]}"
      ]
     },
     "execution_count": 94,
     "metadata": {},
     "output_type": "execute_result"
    }
   ],
   "source": [
    "# Take a look if there is data in page 100 to see if it returns data\n",
    "access_key = '9095e89d0b5649b0a1a7d2bb9c2c5816'\n",
    "all_geos = ('world', 'worldwide')\n",
    "\n",
    "adult_websites_api_path_page_100_test = f'https://api.similarweb.com/v1/website/$Adult/topsites/total?api_key={access_key}&start_date=2022-09&end_date=2022-09&country={all_geos[0]}&format=json&page=100'\n",
    "adult_websites_api_path_page_100_test = requests.get(adult_websites_api_path_page_100_test).json()"
   ]
  },
  {
   "cell_type": "code",
   "execution_count": 97,
   "id": "ac5a0867-cf45-41a8-a030-4f978348fbb0",
   "metadata": {},
   "outputs": [
    {
     "data": {
      "text/plain": [
       "[{'rank': 9901, 'domain': 'videkilany.hu'},\n",
       " {'rank': 9902, 'domain': 'momoiro-ch.com'},\n",
       " {'rank': 9903, 'domain': 'eronb.net'},\n",
       " {'rank': 9904, 'domain': 'liruch.com'},\n",
       " {'rank': 9905, 'domain': 'redporntube.xxx'},\n",
       " {'rank': 9906, 'domain': 'hotvalencia.es'},\n",
       " {'rank': 9907, 'domain': 'h0930.com'},\n",
       " {'rank': 9908, 'domain': 'xxxhottgirls.com'},\n",
       " {'rank': 9909, 'domain': 'mousouzoku-av.com'},\n",
       " {'rank': 9910, 'domain': 'avlanga3.com'}]"
      ]
     },
     "execution_count": 97,
     "metadata": {},
     "output_type": "execute_result"
    }
   ],
   "source": [
    "adult_websites_api_path_page_100_test['top_sites'][0:10]"
   ]
  },
  {
   "cell_type": "code",
   "execution_count": 100,
   "id": "04987d8b-10e7-4480-8c77-c9e4c4e9d219",
   "metadata": {
    "tags": []
   },
   "outputs": [],
   "source": [
    "# RUN ONLY ONCE sice data will live in a csv file! \n",
    "\n",
    "# Run a loop to get all domians in 100 pages to exlude 10K top xxx websites in the world:  \n",
    "access_key = '9095e89d0b5649b0a1a7d2bb9c2c5816'\n",
    "all_geos = ('world', 'worldwide')\n",
    "\n",
    "p_ranks =  []\n",
    "p_domains = []\n",
    "\n",
    "for page in range(1,100+1):\n",
    "    adult_websites_api_path = f'https://api.similarweb.com/v1/website/$Adult/topsites/total?api_key={access_key}&start_date=2022-09&end_date=2022-09&country={all_geos[0]}&format=json&page={page}'\n",
    "    adult_websites_api_data = requests.get(adult_websites_api_path).json()\n",
    "    \n",
    "    for web_site_dict in  adult_websites_api_data['top_sites']:\n",
    "        \n",
    "        rank = web_site_dict['rank']\n",
    "        domain = web_site_dict['domain']\n",
    "        \n",
    "        p_ranks.append(rank)\n",
    "        p_domains.append(domain)"
   ]
  },
  {
   "cell_type": "code",
   "execution_count": 102,
   "id": "5c000b41-4f69-4155-a1db-cb4f324aa36c",
   "metadata": {
    "tags": []
   },
   "outputs": [
    {
     "data": {
      "text/plain": [
       "(10000, 10000)"
      ]
     },
     "execution_count": 102,
     "metadata": {},
     "output_type": "execute_result"
    }
   ],
   "source": [
    "len(p_ranks), len(p_domains)"
   ]
  },
  {
   "cell_type": "code",
   "execution_count": 112,
   "id": "305eadac-be49-4c26-a19e-451490dfb35c",
   "metadata": {},
   "outputs": [
    {
     "data": {
      "text/html": [
       "<div>\n",
       "<style scoped>\n",
       "    .dataframe tbody tr th:only-of-type {\n",
       "        vertical-align: middle;\n",
       "    }\n",
       "\n",
       "    .dataframe tbody tr th {\n",
       "        vertical-align: top;\n",
       "    }\n",
       "\n",
       "    .dataframe thead th {\n",
       "        text-align: right;\n",
       "    }\n",
       "</style>\n",
       "<table border=\"1\" class=\"dataframe\">\n",
       "  <thead>\n",
       "    <tr style=\"text-align: right;\">\n",
       "      <th></th>\n",
       "      <th>Rank</th>\n",
       "      <th>Domain</th>\n",
       "    </tr>\n",
       "  </thead>\n",
       "  <tbody>\n",
       "    <tr>\n",
       "      <th>0</th>\n",
       "      <td>1</td>\n",
       "      <td>xvideos.com</td>\n",
       "    </tr>\n",
       "    <tr>\n",
       "      <th>1</th>\n",
       "      <td>2</td>\n",
       "      <td>pornhub.com</td>\n",
       "    </tr>\n",
       "    <tr>\n",
       "      <th>2</th>\n",
       "      <td>3</td>\n",
       "      <td>xnxx.com</td>\n",
       "    </tr>\n",
       "    <tr>\n",
       "      <th>3</th>\n",
       "      <td>4</td>\n",
       "      <td>xhamster.com</td>\n",
       "    </tr>\n",
       "    <tr>\n",
       "      <th>4</th>\n",
       "      <td>5</td>\n",
       "      <td>realsrv.com</td>\n",
       "    </tr>\n",
       "  </tbody>\n",
       "</table>\n",
       "</div>"
      ],
      "text/plain": [
       "   Rank        Domain\n",
       "0     1   xvideos.com\n",
       "1     2   pornhub.com\n",
       "2     3      xnxx.com\n",
       "3     4  xhamster.com\n",
       "4     5   realsrv.com"
      ]
     },
     "execution_count": 112,
     "metadata": {},
     "output_type": "execute_result"
    }
   ],
   "source": [
    "#Create Adults websites data frame\n",
    "#RUN ONLY ONCE SINCE DATA WILL BE STORED IN A CSV FILE AND AVED IN PLX TABLE\n",
    "\n",
    "adults_web_sites = pd.DataFrame({'Rank': p_ranks,\n",
    "                                 'Domain': p_domains})\n",
    "adults_web_sites.head()"
   ]
  },
  {
   "cell_type": "code",
   "execution_count": 113,
   "id": "dbad817a-eb46-4912-9b74-bb754b5171e8",
   "metadata": {},
   "outputs": [],
   "source": [
    "#Saving the data frame in a csv file that will be exported as plx table\n",
    "#Use this data frame and not hit the API again until next month that we have 3000 hits again \n",
    "adults_web_sites.to_excel('Desktop/adult_websites.xlsx')"
   ]
  },
  {
   "cell_type": "markdown",
   "id": "a585dbe4-be3f-46dd-8b5b-7d57c64a17ad",
   "metadata": {},
   "source": [
    "## Load adult websites from Excel file. This websites will be exluded form anlaysis"
   ]
  },
  {
   "cell_type": "code",
   "execution_count": 218,
   "id": "92e9d550-aa24-4f28-965d-d662a8ddccb2",
   "metadata": {},
   "outputs": [
    {
     "data": {
      "text/html": [
       "<div>\n",
       "<style scoped>\n",
       "    .dataframe tbody tr th:only-of-type {\n",
       "        vertical-align: middle;\n",
       "    }\n",
       "\n",
       "    .dataframe tbody tr th {\n",
       "        vertical-align: top;\n",
       "    }\n",
       "\n",
       "    .dataframe thead th {\n",
       "        text-align: right;\n",
       "    }\n",
       "</style>\n",
       "<table border=\"1\" class=\"dataframe\">\n",
       "  <thead>\n",
       "    <tr style=\"text-align: right;\">\n",
       "      <th></th>\n",
       "      <th>Rank</th>\n",
       "      <th>Domain</th>\n",
       "    </tr>\n",
       "  </thead>\n",
       "  <tbody>\n",
       "    <tr>\n",
       "      <th>0</th>\n",
       "      <td>1</td>\n",
       "      <td>xvideos.com</td>\n",
       "    </tr>\n",
       "    <tr>\n",
       "      <th>1</th>\n",
       "      <td>2</td>\n",
       "      <td>pornhub.com</td>\n",
       "    </tr>\n",
       "    <tr>\n",
       "      <th>2</th>\n",
       "      <td>3</td>\n",
       "      <td>xnxx.com</td>\n",
       "    </tr>\n",
       "    <tr>\n",
       "      <th>3</th>\n",
       "      <td>4</td>\n",
       "      <td>xhamster.com</td>\n",
       "    </tr>\n",
       "    <tr>\n",
       "      <th>4</th>\n",
       "      <td>5</td>\n",
       "      <td>realsrv.com</td>\n",
       "    </tr>\n",
       "    <tr>\n",
       "      <th>...</th>\n",
       "      <td>...</td>\n",
       "      <td>...</td>\n",
       "    </tr>\n",
       "    <tr>\n",
       "      <th>9995</th>\n",
       "      <td>9996</td>\n",
       "      <td>moro-douga.link</td>\n",
       "    </tr>\n",
       "    <tr>\n",
       "      <th>9996</th>\n",
       "      <td>9997</td>\n",
       "      <td>umechan.net</td>\n",
       "    </tr>\n",
       "    <tr>\n",
       "      <th>9997</th>\n",
       "      <td>9998</td>\n",
       "      <td>pimp61.net</td>\n",
       "    </tr>\n",
       "    <tr>\n",
       "      <th>9998</th>\n",
       "      <td>9999</td>\n",
       "      <td>baiselibre.com</td>\n",
       "    </tr>\n",
       "    <tr>\n",
       "      <th>9999</th>\n",
       "      <td>10000</td>\n",
       "      <td>sextingbook.com</td>\n",
       "    </tr>\n",
       "  </tbody>\n",
       "</table>\n",
       "<p>10000 rows × 2 columns</p>\n",
       "</div>"
      ],
      "text/plain": [
       "       Rank           Domain\n",
       "0         1      xvideos.com\n",
       "1         2      pornhub.com\n",
       "2         3         xnxx.com\n",
       "3         4     xhamster.com\n",
       "4         5      realsrv.com\n",
       "...     ...              ...\n",
       "9995   9996  moro-douga.link\n",
       "9996   9997      umechan.net\n",
       "9997   9998       pimp61.net\n",
       "9998   9999   baiselibre.com\n",
       "9999  10000  sextingbook.com\n",
       "\n",
       "[10000 rows x 2 columns]"
      ]
     },
     "execution_count": 218,
     "metadata": {},
     "output_type": "execute_result"
    }
   ],
   "source": [
    "adults_web_sites = pd.read_excel('Documents/SimilarWeb API data pull/adult_websites.csv')\n",
    "adults_web_sites "
   ]
  },
  {
   "cell_type": "markdown",
   "id": "18b5bc71-d0dc-4493-9b55-22d10ee6759a",
   "metadata": {
    "tags": []
   },
   "source": [
    "# Run API hits for data collection"
   ]
  },
  {
   "cell_type": "markdown",
   "id": "37b03f5c-6fd1-407d-a2b4-53108305d02b",
   "metadata": {
    "tags": []
   },
   "source": [
    "### Google countries mapped with SimilarWeb codes file upload and constant websites list definition"
   ]
  },
  {
   "cell_type": "code",
   "execution_count": 248,
   "id": "feae6a5e-a533-468d-bb87-eae456bd2ec9",
   "metadata": {},
   "outputs": [
    {
     "data": {
      "text/plain": [
       "(  country_code_google country_code_SW country_code_lower_SW  \\\n",
       " 0                  US              US                    us   \n",
       " 1                  GB              GB                    gb   \n",
       " 2                  DE              DE                    de   \n",
       " 3                  JP              JP                    jp   \n",
       " 4                  NL              NL                    nl   \n",
       " \n",
       "    Search revenue rank  \n",
       " 0                    1  \n",
       " 1                    2  \n",
       " 2                    3  \n",
       " 3                    4  \n",
       " 4                    5  ,\n",
       " (49, 4))"
      ]
     },
     "execution_count": 248,
     "metadata": {},
     "output_type": "execute_result"
    }
   ],
   "source": [
    "countries_data_frame = pd.read_excel('Documents/SimilarWeb API data pull/similarweb_countries.csv.xlsx')\n",
    "#Exlude China\n",
    "countries_data_frame = countries_data_frame[countries_data_frame['country_code_lower_SW'] != 'Not in SW']\n",
    "#Rank countries (They come sorted)\n",
    "countries_data_frame['Search revenue rank'] = [i for i in range(1,50)]\n",
    "countries_data_frame.head(), countries_data_frame.shape"
   ]
  },
  {
   "cell_type": "code",
   "execution_count": 257,
   "id": "b02f583e-0e46-4b42-aa01-ea7e59f5579e",
   "metadata": {},
   "outputs": [
    {
     "data": {
      "text/plain": [
       "['us',\n",
       " 'gb',\n",
       " 'de',\n",
       " 'jp',\n",
       " 'nl',\n",
       " 'fr',\n",
       " 'ca',\n",
       " 'au',\n",
       " 'il',\n",
       " 'es',\n",
       " 'br',\n",
       " 'it',\n",
       " 'in',\n",
       " 'se',\n",
       " 'pl',\n",
       " 'mx',\n",
       " 'vn',\n",
       " 'kr']"
      ]
     },
     "execution_count": 257,
     "metadata": {},
     "output_type": "execute_result"
    }
   ],
   "source": [
    "#Define how many countries we want to get data from the SW API\n",
    "top_countries_to_get = 15\n",
    "## Conutries that are not in the top 15 but we would like to have them\n",
    "aditional_countries = ['mx', 'vn', 'kr']\n",
    "final_countries_to_get = list(countries_data_frame[countries_data_frame['Search revenue rank'] <= top_countries_to_get]['country_code_lower_SW']) + aditional_countries\n",
    "final_countries_to_get"
   ]
  },
  {
   "cell_type": "code",
   "execution_count": 258,
   "id": "d7160c7a-03eb-4db1-807a-d6ea43bade61",
   "metadata": {},
   "outputs": [
    {
     "data": {
      "text/plain": [
       "['google.com',\n",
       " 'youtube.com',\n",
       " 'facebook.com',\n",
       " 'amazon.com',\n",
       " 'twitter.com',\n",
       " 'instagram.com',\n",
       " 'reddit.com',\n",
       " 'tiktok.com']"
      ]
     },
     "execution_count": 258,
     "metadata": {},
     "output_type": "execute_result"
    }
   ],
   "source": [
    "#constant Webstie to be included  across countries\n",
    "constant_web_sites =  ['google.com','youtube.com','facebook.com','amazon.com', 'twitter.com', 'instagram.com', 'reddit.com','tiktok.com']\n",
    "constant_web_sites"
   ]
  },
  {
   "cell_type": "markdown",
   "id": "74726613-5dfb-47b3-94d7-8fa53ae4ce75",
   "metadata": {},
   "source": [
    "### API hits"
   ]
  },
  {
   "cell_type": "code",
   "execution_count": 259,
   "id": "9c992aba-3386-44b9-af45-9a5e1484b6be",
   "metadata": {
    "collapsed": true,
    "jupyter": {
     "outputs_hidden": true
    },
    "tags": []
   },
   "outputs": [
    {
     "ename": "KeyError",
     "evalue": "'top_sites'",
     "output_type": "error",
     "traceback": [
      "\u001b[0;31m---------------------------------------------------------------------------\u001b[0m",
      "\u001b[0;31mKeyError\u001b[0m                                  Traceback (most recent call last)",
      "\u001b[0;32m/var/folders/cn/2n6sb31d0919s1nmlzllq_0800c38m/T/ipykernel_54131/4292832924.py\u001b[0m in \u001b[0;36m<module>\u001b[0;34m\u001b[0m\n\u001b[1;32m     44\u001b[0m     \u001b[0mtop_domains_path\u001b[0m \u001b[0;34m=\u001b[0m \u001b[0;34mf'https://api.similarweb.com/v1/website/$All/topsites/total?api_key={access_key}&start_date=2022-09&end_date=2022-09&country={country_code}&format=json&page=1'\u001b[0m\u001b[0;34m\u001b[0m\u001b[0;34m\u001b[0m\u001b[0m\n\u001b[1;32m     45\u001b[0m     \u001b[0mtop_websites_data\u001b[0m \u001b[0;34m=\u001b[0m \u001b[0mrequests\u001b[0m\u001b[0;34m.\u001b[0m\u001b[0mget\u001b[0m\u001b[0;34m(\u001b[0m\u001b[0mtop_domains_path\u001b[0m\u001b[0;34m)\u001b[0m\u001b[0;34m.\u001b[0m\u001b[0mjson\u001b[0m\u001b[0;34m(\u001b[0m\u001b[0;34m)\u001b[0m\u001b[0;34m\u001b[0m\u001b[0;34m\u001b[0m\u001b[0m\n\u001b[0;32m---> 46\u001b[0;31m     \u001b[0mtop_websites_data_dicts\u001b[0m \u001b[0;34m=\u001b[0m \u001b[0mtop_websites_data\u001b[0m\u001b[0;34m[\u001b[0m\u001b[0;34m'top_sites'\u001b[0m\u001b[0;34m]\u001b[0m\u001b[0;34m\u001b[0m\u001b[0;34m\u001b[0m\u001b[0m\n\u001b[0m\u001b[1;32m     47\u001b[0m \u001b[0;34m\u001b[0m\u001b[0m\n\u001b[1;32m     48\u001b[0m     \u001b[0;31m## Extract domains and ranks and domains exlusion step\u001b[0m\u001b[0;34m\u001b[0m\u001b[0;34m\u001b[0m\u001b[0m\n",
      "\u001b[0;31mKeyError\u001b[0m: 'top_sites'"
     ]
    }
   ],
   "source": [
    "#Number of domains per top country present in final_countries_to_get\n",
    "threshold_top_domains = 40\n",
    "\n",
    "#Variables definition for API data pulls\n",
    "\n",
    "access_key = '9095e89d0b5649b0a1a7d2bb9c2c5816'\n",
    "t0_date = '2019-09'\n",
    "t1_date = '2022-09'\n",
    "granularity = 'monthly'\n",
    "\n",
    "#Adults websites to exlude from analysis\n",
    "adult_domains_to_exlude = [adult_domain for adult_domain in adults_web_sites['Domain']]\n",
    "\n",
    "#LISTS WHICH WILL POPULATE DATA FAMES:\n",
    "\n",
    "## Total visits\n",
    "total_visits_dates = []\n",
    "total_visits_countries = []\n",
    "total_visits_domains = []\n",
    "total_visits_visits = [] \n",
    "\n",
    "## Desktop average session duration\n",
    "\n",
    "desktop_visit_dur_dates = []\n",
    "desktop_visit_dur_countries = []\n",
    "desktop_visit_dur_domains = []\n",
    "desktop_visit_dur_duration = [] \n",
    "\n",
    "\n",
    "## Mobile average session duration\n",
    "\n",
    "mobile_visit_dur_dates = []\n",
    "mobile_visit_dur_countries = []\n",
    "mobile_visit_dur_domains = []\n",
    "mobile_visit_dur_duration = [] \n",
    "\n",
    "\n",
    "\n",
    "\n",
    "for country_code in final_countries_to_get:\n",
    "    \n",
    "     #1) Get top domains data from the API for iterating country\n",
    "\n",
    "    top_domains_path = f'https://api.similarweb.com/v1/website/$All/topsites/total?api_key={access_key}&start_date=2022-09&end_date=2022-09&country={country_code}&format=json&page=1'\n",
    "    top_websites_data = requests.get(top_domains_path).json()\n",
    "    top_websites_data_dicts = top_websites_data['top_sites']\n",
    "\n",
    "    ## Extract domains and ranks and domains exlusion step\n",
    "\n",
    "    country_domains_to_analyse = []\n",
    "\n",
    "    for dic in top_websites_data_dicts:\n",
    "        rank =  dic['rank']\n",
    "        domain = dic['domain']\n",
    "        country_domains_to_analyse.append([rank, domain])\n",
    "\n",
    "        #exlude adult websites and constant websites from top websites cohort --> Constant WebSites will be added in later stage of this algorithm\n",
    "        country_domains_to_analyse = [d for d in country_domains_to_analyse if d[1] not in adult_domains_to_exlude]\n",
    "        country_domains_to_analyse = [d for d in country_domains_to_analyse if d[1] not in constant_web_sites]\n",
    "\n",
    "\n",
    "    #3) Re rank websties avilable once adult and constant domains have been exluded        \n",
    "    for n in range(0,len(country_domains_to_analyse)):\n",
    "        country_domains_to_analyse[n].append(n)\n",
    "\n",
    "    #Capture domain and new rank: Based on the new rank, grab only top x = threshold_top_domains domains\n",
    "    country_domains_to_analyse = [d[1] for d in country_domains_to_analyse if d[2] <= threshold_top_domains]\n",
    "\n",
    "    #4)Add constant websites across countries to the list to be analysed\n",
    "\n",
    "    for constant_domain in constant_web_sites:\n",
    "            country_domains_to_analyse.append(constant_domain)\n",
    "            \n",
    "    # Create a list from a set just to be sure that we are not duplicating domains\n",
    "    \n",
    "    country_domains_to_analyse = list(set(country_domains_to_analyse))\n",
    "                    \n",
    "    #5) Extract Visits data for each website\n",
    "\n",
    "    for domain in country_domains_to_analyse:\n",
    "\n",
    "        # API visits call delete comment once testing ends         \n",
    "        visits_path = f'https://api.similarweb.com/v1/website/{domain}/total-traffic-and-engagement/visits?api_key={access_key}&start_date={t0_date}&end_date={t1_date}&country={country_code}&granularity={granularity}&main_domain_only=false&format=json'\n",
    "        visits_data = requests.get(visits_path).json()     \n",
    "        visits_data_dicts = visits_data['visits'] \n",
    "\n",
    "        #Extract data from json structure to populate lists that will build total visits data frame\n",
    "\n",
    "        for date_visit in visits_data_dicts:\n",
    "            date = date_visit['date']\n",
    "            total_visits = int(date_visit['visits'])\n",
    "\n",
    "            #Populating visits lists that will build total traffic data frame\n",
    "\n",
    "            total_visits_dates.append(date)\n",
    "            total_visits_countries.append(country_code)\n",
    "            total_visits_domains.append(domain)\n",
    "            total_visits_visits.append(total_visits)\n",
    "\n",
    "    #6) Extract average visit duration for Desktop\n",
    "\n",
    "        #Desktop average visit duration API call\n",
    "        desktop_average_visit_duration_path = f'https://api.similarweb.com/v1/website/{domain}/traffic-and-engagement/average-visit-duration?api_key={access_key}&start_date={t0_date}&end_date={t1_date}&country={country_code}&granularity={granularity}&main_domain_only=false&format=json&show_verified=false'\n",
    "        desktop_average_visit_duration_data = requests.get(desktop_average_visit_duration_path).json()\n",
    "        desktop_average_visit_duration_data_dicts = desktop_average_visit_duration_data['average_visit_duration']\n",
    "\n",
    "        #Extract data from json structure to populate lists that will build total visits data frame\n",
    "\n",
    "        for date_desk_session in desktop_average_visit_duration_data_dicts:\n",
    "            date = date_desk_session['date']\n",
    "            desk_average_visit_duration = date_desk_session['average_visit_duration']\n",
    "\n",
    "            #Populating visits lists that will build total traffic data frame\n",
    "\n",
    "            desktop_visit_dur_dates.append(date)\n",
    "            desktop_visit_dur_countries.append(country_code)\n",
    "            desktop_visit_dur_domains.append(domain)\n",
    "            desktop_visit_dur_duration.append(desk_average_visit_duration)\n",
    "\n",
    "\n",
    "    #7)Extract average visit duration for Mobile\n",
    "\n",
    "         #Mobile average visit duration API call\n",
    "        mobile_average_visit_duration_path = f'https://api.similarweb.com/v2/website/{domain}/mobile-web/average-visit-duration?api_key={access_key}&start_date={t0_date}&end_date={t1_date}&country={country_code}&granularity={granularity}&main_domain_only=false&format=json'\n",
    "        mobile_average_visit_duration_data = requests.get(mobile_average_visit_duration_path).json()\n",
    "        mobile_average_visit_duration_data_dicts = mobile_average_visit_duration_data['average_visit_duration']\n",
    "\n",
    "        for date_mobile_session in mobile_average_visit_duration_data_dicts:\n",
    "            date = date_mobile_session['date']\n",
    "            mobile_average_visit_duration = date_mobile_session['average_visit_duration']\n",
    "\n",
    "            #Populating visits lists that will build total traffic data frame\n",
    "\n",
    "            mobile_visit_dur_dates.append(date)\n",
    "            mobile_visit_dur_countries.append(country_code)\n",
    "            mobile_visit_dur_domains.append(domain)\n",
    "            mobile_visit_dur_duration.append(mobile_average_visit_duration)"
   ]
  },
  {
   "cell_type": "code",
   "execution_count": 261,
   "id": "73f2c101-b2f8-45dc-a697-d7d95b208533",
   "metadata": {},
   "outputs": [
    {
     "data": {
      "text/plain": [
       "(30192, 30192, 30192, 30192)"
      ]
     },
     "execution_count": 261,
     "metadata": {},
     "output_type": "execute_result"
    }
   ],
   "source": [
    "## Total visits\n",
    "len(total_visits_dates), len(total_visits_countries), len(total_visits_domains ), len(total_visits_visits )"
   ]
  },
  {
   "cell_type": "code",
   "execution_count": 262,
   "id": "cbd7821b-41cc-4fc8-86fd-4ef23f730384",
   "metadata": {},
   "outputs": [
    {
     "data": {
      "text/plain": [
       "(30192, 30192, 30192, 30192)"
      ]
     },
     "execution_count": 262,
     "metadata": {},
     "output_type": "execute_result"
    }
   ],
   "source": [
    "## Desktop average session duration\n",
    "len(desktop_visit_dur_dates ), len(desktop_visit_dur_countries ), len(desktop_visit_dur_domains ), len(desktop_visit_dur_duration)"
   ]
  },
  {
   "cell_type": "code",
   "execution_count": 263,
   "id": "d067375f-a0b9-44e5-8f83-108143d361ce",
   "metadata": {},
   "outputs": [
    {
     "data": {
      "text/plain": [
       "(30192, 30192, 30192, 30192)"
      ]
     },
     "execution_count": 263,
     "metadata": {},
     "output_type": "execute_result"
    }
   ],
   "source": [
    "## Mobile average session duration\n",
    "\n",
    "len(mobile_visit_dur_dates), len(mobile_visit_dur_countries), len(mobile_visit_dur_domains), len(mobile_visit_dur_duration)"
   ]
  },
  {
   "cell_type": "markdown",
   "id": "d736c187-54b2-42bc-8263-4aee4913c566",
   "metadata": {},
   "source": [
    "## Data Frames creation and export to Excel/CSV files"
   ]
  },
  {
   "cell_type": "code",
   "execution_count": 264,
   "id": "aadf2add-9788-4cc2-904c-204a13259b5e",
   "metadata": {
    "tags": []
   },
   "outputs": [],
   "source": [
    "# Data Frames Creation\n",
    "\n",
    "#Total Visits\n",
    "\n",
    "total_visits_df = pd.DataFrame({'Date':total_visits_dates,\n",
    "                                'Country Code': total_visits_countries,\n",
    "                                'Domain': total_visits_domains,\n",
    "                                'Total Visits':total_visits_visits })\n",
    "\n",
    "\n",
    "#Avg Session Duration Desktop\n",
    "\n",
    "desktop_avg_visit_duration_df = pd.DataFrame({'Date':desktop_visit_dur_dates,\n",
    "                                              'Country Code': desktop_visit_dur_countries,\n",
    "                                              'Domain': desktop_visit_dur_domains,\n",
    "                                              'Avg. visit duration (sec)':desktop_visit_dur_duration })\n",
    "\n",
    "desktop_avg_visit_duration_df['form_factor'] = 'Desktop Browser'\n",
    "\n",
    "\n",
    "\n",
    "## Mobile average session duration\n",
    "\n",
    "\n",
    "mobile_avg_visit_duration_df = pd.DataFrame({'Date':mobile_visit_dur_dates,\n",
    "                                              'Country Code': mobile_visit_dur_countries,\n",
    "                                              'Domain': mobile_visit_dur_domains,\n",
    "                                              'Avg. visit duration (sec)':mobile_visit_dur_duration })\n",
    "\n",
    "\n",
    "mobile_avg_visit_duration_df['form_factor'] = 'Mobile Browser'\n",
    "\n",
    "\n",
    "avg_visit_duration_df = pd.concat([desktop_avg_visit_duration_df,mobile_avg_visit_duration_df])\n"
   ]
  },
  {
   "cell_type": "code",
   "execution_count": 265,
   "id": "15afd84b-ae93-4268-98d6-48872c3fcd29",
   "metadata": {},
   "outputs": [
    {
     "data": {
      "text/html": [
       "<div>\n",
       "<style scoped>\n",
       "    .dataframe tbody tr th:only-of-type {\n",
       "        vertical-align: middle;\n",
       "    }\n",
       "\n",
       "    .dataframe tbody tr th {\n",
       "        vertical-align: top;\n",
       "    }\n",
       "\n",
       "    .dataframe thead th {\n",
       "        text-align: right;\n",
       "    }\n",
       "</style>\n",
       "<table border=\"1\" class=\"dataframe\">\n",
       "  <thead>\n",
       "    <tr style=\"text-align: right;\">\n",
       "      <th></th>\n",
       "      <th>Date</th>\n",
       "      <th>Country Code</th>\n",
       "      <th>Domain</th>\n",
       "      <th>Total Visits</th>\n",
       "    </tr>\n",
       "  </thead>\n",
       "  <tbody>\n",
       "    <tr>\n",
       "      <th>0</th>\n",
       "      <td>2019-09-01</td>\n",
       "      <td>us</td>\n",
       "      <td>facebook.com</td>\n",
       "      <td>4224180026</td>\n",
       "    </tr>\n",
       "    <tr>\n",
       "      <th>1</th>\n",
       "      <td>2019-10-01</td>\n",
       "      <td>us</td>\n",
       "      <td>facebook.com</td>\n",
       "      <td>4304477039</td>\n",
       "    </tr>\n",
       "    <tr>\n",
       "      <th>2</th>\n",
       "      <td>2019-11-01</td>\n",
       "      <td>us</td>\n",
       "      <td>facebook.com</td>\n",
       "      <td>4228879085</td>\n",
       "    </tr>\n",
       "    <tr>\n",
       "      <th>3</th>\n",
       "      <td>2019-12-01</td>\n",
       "      <td>us</td>\n",
       "      <td>facebook.com</td>\n",
       "      <td>4343648785</td>\n",
       "    </tr>\n",
       "    <tr>\n",
       "      <th>4</th>\n",
       "      <td>2020-01-01</td>\n",
       "      <td>us</td>\n",
       "      <td>facebook.com</td>\n",
       "      <td>4304076504</td>\n",
       "    </tr>\n",
       "    <tr>\n",
       "      <th>...</th>\n",
       "      <td>...</td>\n",
       "      <td>...</td>\n",
       "      <td>...</td>\n",
       "      <td>...</td>\n",
       "    </tr>\n",
       "    <tr>\n",
       "      <th>30187</th>\n",
       "      <td>2022-05-01</td>\n",
       "      <td>vn</td>\n",
       "      <td>thegioididong.com</td>\n",
       "      <td>59539821</td>\n",
       "    </tr>\n",
       "    <tr>\n",
       "      <th>30188</th>\n",
       "      <td>2022-06-01</td>\n",
       "      <td>vn</td>\n",
       "      <td>thegioididong.com</td>\n",
       "      <td>59306516</td>\n",
       "    </tr>\n",
       "    <tr>\n",
       "      <th>30189</th>\n",
       "      <td>2022-07-01</td>\n",
       "      <td>vn</td>\n",
       "      <td>thegioididong.com</td>\n",
       "      <td>60726976</td>\n",
       "    </tr>\n",
       "    <tr>\n",
       "      <th>30190</th>\n",
       "      <td>2022-08-01</td>\n",
       "      <td>vn</td>\n",
       "      <td>thegioididong.com</td>\n",
       "      <td>61921824</td>\n",
       "    </tr>\n",
       "    <tr>\n",
       "      <th>30191</th>\n",
       "      <td>2022-09-01</td>\n",
       "      <td>vn</td>\n",
       "      <td>thegioididong.com</td>\n",
       "      <td>60723428</td>\n",
       "    </tr>\n",
       "  </tbody>\n",
       "</table>\n",
       "<p>30192 rows × 4 columns</p>\n",
       "</div>"
      ],
      "text/plain": [
       "             Date Country Code             Domain  Total Visits\n",
       "0      2019-09-01           us       facebook.com    4224180026\n",
       "1      2019-10-01           us       facebook.com    4304477039\n",
       "2      2019-11-01           us       facebook.com    4228879085\n",
       "3      2019-12-01           us       facebook.com    4343648785\n",
       "4      2020-01-01           us       facebook.com    4304076504\n",
       "...           ...          ...                ...           ...\n",
       "30187  2022-05-01           vn  thegioididong.com      59539821\n",
       "30188  2022-06-01           vn  thegioididong.com      59306516\n",
       "30189  2022-07-01           vn  thegioididong.com      60726976\n",
       "30190  2022-08-01           vn  thegioididong.com      61921824\n",
       "30191  2022-09-01           vn  thegioididong.com      60723428\n",
       "\n",
       "[30192 rows x 4 columns]"
      ]
     },
     "execution_count": 265,
     "metadata": {},
     "output_type": "execute_result"
    }
   ],
   "source": [
    "total_visits_df"
   ]
  },
  {
   "cell_type": "code",
   "execution_count": 266,
   "id": "8ca0cbbb-1aa8-4fda-b0d2-aea3d018664e",
   "metadata": {},
   "outputs": [
    {
     "data": {
      "text/html": [
       "<div>\n",
       "<style scoped>\n",
       "    .dataframe tbody tr th:only-of-type {\n",
       "        vertical-align: middle;\n",
       "    }\n",
       "\n",
       "    .dataframe tbody tr th {\n",
       "        vertical-align: top;\n",
       "    }\n",
       "\n",
       "    .dataframe thead th {\n",
       "        text-align: right;\n",
       "    }\n",
       "</style>\n",
       "<table border=\"1\" class=\"dataframe\">\n",
       "  <thead>\n",
       "    <tr style=\"text-align: right;\">\n",
       "      <th></th>\n",
       "      <th>Date</th>\n",
       "      <th>Country Code</th>\n",
       "      <th>Domain</th>\n",
       "      <th>Avg. visit duration (sec)</th>\n",
       "      <th>form_factor</th>\n",
       "    </tr>\n",
       "  </thead>\n",
       "  <tbody>\n",
       "    <tr>\n",
       "      <th>0</th>\n",
       "      <td>2019-09-01</td>\n",
       "      <td>us</td>\n",
       "      <td>facebook.com</td>\n",
       "      <td>846.311822</td>\n",
       "      <td>Desktop Browser</td>\n",
       "    </tr>\n",
       "    <tr>\n",
       "      <th>1</th>\n",
       "      <td>2019-10-01</td>\n",
       "      <td>us</td>\n",
       "      <td>facebook.com</td>\n",
       "      <td>838.295246</td>\n",
       "      <td>Desktop Browser</td>\n",
       "    </tr>\n",
       "    <tr>\n",
       "      <th>2</th>\n",
       "      <td>2019-11-01</td>\n",
       "      <td>us</td>\n",
       "      <td>facebook.com</td>\n",
       "      <td>832.467354</td>\n",
       "      <td>Desktop Browser</td>\n",
       "    </tr>\n",
       "    <tr>\n",
       "      <th>3</th>\n",
       "      <td>2019-12-01</td>\n",
       "      <td>us</td>\n",
       "      <td>facebook.com</td>\n",
       "      <td>827.977572</td>\n",
       "      <td>Desktop Browser</td>\n",
       "    </tr>\n",
       "    <tr>\n",
       "      <th>4</th>\n",
       "      <td>2020-01-01</td>\n",
       "      <td>us</td>\n",
       "      <td>facebook.com</td>\n",
       "      <td>825.796715</td>\n",
       "      <td>Desktop Browser</td>\n",
       "    </tr>\n",
       "    <tr>\n",
       "      <th>...</th>\n",
       "      <td>...</td>\n",
       "      <td>...</td>\n",
       "      <td>...</td>\n",
       "      <td>...</td>\n",
       "      <td>...</td>\n",
       "    </tr>\n",
       "    <tr>\n",
       "      <th>30187</th>\n",
       "      <td>2022-05-01</td>\n",
       "      <td>vn</td>\n",
       "      <td>thegioididong.com</td>\n",
       "      <td>234.154063</td>\n",
       "      <td>Mobile Browser</td>\n",
       "    </tr>\n",
       "    <tr>\n",
       "      <th>30188</th>\n",
       "      <td>2022-06-01</td>\n",
       "      <td>vn</td>\n",
       "      <td>thegioididong.com</td>\n",
       "      <td>237.134487</td>\n",
       "      <td>Mobile Browser</td>\n",
       "    </tr>\n",
       "    <tr>\n",
       "      <th>30189</th>\n",
       "      <td>2022-07-01</td>\n",
       "      <td>vn</td>\n",
       "      <td>thegioididong.com</td>\n",
       "      <td>237.277350</td>\n",
       "      <td>Mobile Browser</td>\n",
       "    </tr>\n",
       "    <tr>\n",
       "      <th>30190</th>\n",
       "      <td>2022-08-01</td>\n",
       "      <td>vn</td>\n",
       "      <td>thegioididong.com</td>\n",
       "      <td>223.886857</td>\n",
       "      <td>Mobile Browser</td>\n",
       "    </tr>\n",
       "    <tr>\n",
       "      <th>30191</th>\n",
       "      <td>2022-09-01</td>\n",
       "      <td>vn</td>\n",
       "      <td>thegioididong.com</td>\n",
       "      <td>220.978623</td>\n",
       "      <td>Mobile Browser</td>\n",
       "    </tr>\n",
       "  </tbody>\n",
       "</table>\n",
       "<p>60384 rows × 5 columns</p>\n",
       "</div>"
      ],
      "text/plain": [
       "             Date Country Code             Domain  Avg. visit duration (sec)  \\\n",
       "0      2019-09-01           us       facebook.com                 846.311822   \n",
       "1      2019-10-01           us       facebook.com                 838.295246   \n",
       "2      2019-11-01           us       facebook.com                 832.467354   \n",
       "3      2019-12-01           us       facebook.com                 827.977572   \n",
       "4      2020-01-01           us       facebook.com                 825.796715   \n",
       "...           ...          ...                ...                        ...   \n",
       "30187  2022-05-01           vn  thegioididong.com                 234.154063   \n",
       "30188  2022-06-01           vn  thegioididong.com                 237.134487   \n",
       "30189  2022-07-01           vn  thegioididong.com                 237.277350   \n",
       "30190  2022-08-01           vn  thegioididong.com                 223.886857   \n",
       "30191  2022-09-01           vn  thegioididong.com                 220.978623   \n",
       "\n",
       "           form_factor  \n",
       "0      Desktop Browser  \n",
       "1      Desktop Browser  \n",
       "2      Desktop Browser  \n",
       "3      Desktop Browser  \n",
       "4      Desktop Browser  \n",
       "...                ...  \n",
       "30187   Mobile Browser  \n",
       "30188   Mobile Browser  \n",
       "30189   Mobile Browser  \n",
       "30190   Mobile Browser  \n",
       "30191   Mobile Browser  \n",
       "\n",
       "[60384 rows x 5 columns]"
      ]
     },
     "execution_count": 266,
     "metadata": {},
     "output_type": "execute_result"
    }
   ],
   "source": [
    "avg_visit_duration_df"
   ]
  },
  {
   "cell_type": "markdown",
   "id": "738d1070-3f7c-4596-a90f-d3fe55480c98",
   "metadata": {},
   "source": [
    "### Saving data in xlsx files to be uploaded to plx"
   ]
  },
  {
   "cell_type": "code",
   "execution_count": 267,
   "id": "6ec26ae8-0632-4bfd-bb13-7d79e86a3ec2",
   "metadata": {},
   "outputs": [],
   "source": [
    "#Saving data in excel/csv files\n",
    "#Saving the data frame in a csv file that will be exported as plx table\n",
    "#Use this data frame and not hit the API again until next month that we have 3000 hits again \n",
    "total_visits_df.to_excel('Documents/SimilarWeb API data pull/sw_total_visits_traffic.xlsx')\n",
    "avg_visit_duration_df.to_excel('Documents/SimilarWeb API data pull/sw_avg_visit_duation.xlsx')"
   ]
  },
  {
   "cell_type": "markdown",
   "id": "837da0b2-6e21-4212-8aa1-c537c7093b44",
   "metadata": {},
   "source": [
    "## DONE!"
   ]
  }
 ],
 "metadata": {
  "kernelspec": {
   "display_name": "Python 3 (ipykernel)",
   "language": "python",
   "name": "python3"
  },
  "language_info": {
   "codemirror_mode": {
    "name": "ipython",
    "version": 3
   },
   "file_extension": ".py",
   "mimetype": "text/x-python",
   "name": "python",
   "nbconvert_exporter": "python",
   "pygments_lexer": "ipython3",
   "version": "3.9.13"
  }
 },
 "nbformat": 4,
 "nbformat_minor": 5
}
