{
 "cells": [
  {
   "cell_type": "markdown",
   "metadata": {},
   "source": [
    "## Poker Hand Ranking, level: expert"
   ]
  },
  {
   "cell_type": "code",
   "execution_count": 1,
   "metadata": {},
   "outputs": [],
   "source": [
    "# link: https://edabit.com/challenge/C6pHyc4iN6BNzmhsM\n",
    "\n",
    "#In this challenge, you have to establish which kind of Poker combination is present in a deck of five cards. Every card is a string containing the card value (with the upper-case initial for face-cards) and the lower-case initial for suits, as in the examples below:\n",
    "\n",
    "#\"Ah\" ➞ Ace of hearts\n",
    "#\"Ks\" ➞ King of spades\n",
    "#\"3d\" ➞ Three of diamonds\n",
    "#\"Qc\" ➞ Queen of clubs\n",
    "#There are 10 different combinations. Here's the list, in decreasing order of importance:\n",
    "\n",
    "#Name\tDescription\n",
    "#Royal Flush\tA, K, Q, J, 10, all with the same suit.\n",
    "#Straight Flush\tFive cards in sequence, all with the same suit.\n",
    "#Four of a Kind\tFour cards of the same rank.\n",
    "#Full House\tThree of a Kind with a Pair.\n",
    "#Flush\tAny five cards of the same suit, not in sequence.\n",
    "#Straight\tFive cards in a sequence, but not of the same suit.\n",
    "#Three of a Kind\tThree cards of the same rank.\n",
    "#Two Pair\tTwo different Pair.\n",
    "#Pair\tTwo cards of the same rank.\n",
    "#High Card\tNo other valid combination.\n",
    "#Given a list hand containing five strings being the cards, implement a function that returns a string with the name of the highest combination obtained, accordingly to the table above.\n",
    "\n",
    "#Examples\n",
    "#poker_hand_ranking([\"10h\", \"Jh\", \"Qh\", \"Ah\", \"Kh\"]) ➞ \"Royal Flush\"\n",
    "\n",
    "#poker_hand_ranking([\"3h\", \"5h\", \"Qs\", \"9h\", \"Ad\"]) ➞ \"High Card\"\n",
    "\n",
    "#poker_hand_ranking([\"10s\", \"10c\", \"8d\", \"10d\", \"10h\"]) ➞ \"Four of a Kind\""
   ]
  },
  {
   "cell_type": "code",
   "execution_count": 2,
   "metadata": {},
   "outputs": [
    {
     "name": "stdout",
     "output_type": "stream",
     "text": [
      "['2h', '2s', '2d', '2c', '3h', '3s', '3d', '3c', '4h', '4s', '4d', '4c', '5h', '5s', '5d', '5c', '6h', '6s', '6d', '6c', '7h', '7s', '7d', '7c', '8h', '8s', '8d', '8c', '9h', '9s', '9d', '9c', '10h', '10s', '10d', '10c', 'Jh', 'Js', 'Jd', 'Jc', 'Qh', 'Qs', 'Qd', 'Qc', 'Kh', 'Ks', 'Kd', 'Kc', 'ah', 'as', 'ad', 'ac']\n",
      "52\n"
     ]
    }
   ],
   "source": [
    "# Deck creation\n",
    "\n",
    "numbers = [\"2\",\"3\",\"4\",\"5\",\"6\",\"7\",\"8\",\"9\",\"10\"]\n",
    "figures = [\"J\", \"Q\", \"K\",\"a\"] \n",
    "kinds = [\"h\",\"s\",\"d\",\"c\"]\n",
    "global deck\n",
    "deck = []\n",
    "\n",
    "for number in numbers:\n",
    "    for kind in kinds:\n",
    "        deck.append(number+kind)\n",
    "        \n",
    "for figure in figures:\n",
    "    for kind in kinds:\n",
    "        deck.append(figure+kind)\n",
    "        \n",
    "print(deck)\n",
    "print(len(deck))"
   ]
  },
  {
   "cell_type": "code",
   "execution_count": 3,
   "metadata": {},
   "outputs": [],
   "source": [
    "# Create the dictionary of rankings\n",
    "\n",
    "global numbers_hands \n",
    "numbers_hands = {\n",
    "    \n",
    "     '[4, 1]':\"Poker\",\n",
    "     '[3, 2]':\"Full House\",\n",
    "     '[3, 1, 1]':\"Three of a Kind\",\n",
    "     '[2, 2, 1]':\"Two Pair\",\n",
    "     '[2, 1, 1, 1]':\"Pair\",\n",
    "     '[1, 1, 1, 1, 1]':\"High Card\"}\n",
    "\n",
    "global rankings\n",
    "rankings = {\n",
    "    \n",
    "    \"Royal Flush\":10,\n",
    "    \"Straigth Flush\":9,\n",
    "    \"Poker\":8,\n",
    "    \"Full House\":7,\n",
    "    \"Flush\":6,\n",
    "    \"Straigth\":5,\n",
    "    \"Three of a Kind\":4,\n",
    "    \"Two Pair\":3,\n",
    "    \"Pair\":2,\n",
    "    \"High Card\":1}\n",
    "\n",
    "global inverse_rankings\n",
    "inverse_rankings = {\n",
    "    \n",
    "    10:\"Royal Flush\",\n",
    "    9:\"Straigth Flush\",\n",
    "    8:\"Poker\",\n",
    "    7:\"Full House\",\n",
    "    6:\"Flush\",\n",
    "    5:\"Straigth\",\n",
    "    4:\"Three of a Kind\",\n",
    "    3:\"Two Pair\",\n",
    "    2:\"Pair\",\n",
    "    1:\"High Card\"}\n"
   ]
  },
  {
   "cell_type": "code",
   "execution_count": 4,
   "metadata": {},
   "outputs": [],
   "source": [
    "def get_best_game():\n",
    "    \n",
    "    import random\n",
    "    \n",
    "    global deck \n",
    "    random.shuffle(deck)\n",
    "    hand = random.sample(deck, 5)\n",
    "    #hand = ['10h', 'Jh','Qs', 'ah','Kh']\n",
    "    first_char = [i[:-1] for i in hand]\n",
    "    unique_char =  list(dict.fromkeys(first_char))\n",
    "    dict_hand = {}\n",
    "    list_of_all_results_names = []\n",
    "    list_of_all_results_values = []\n",
    "\n",
    "    #ROYAL RUSH\n",
    "\n",
    "    Royal_rush_values_order = ['10', 'J', 'Q', 'K', 'a']\n",
    "\n",
    "    if first_char[0] in Royal_rush_values_order and first_char[1] in Royal_rush_values_order and first_char[2] in Royal_rush_values_order and first_char[3] in Royal_rush_values_order and first_char[4] in Royal_rush_values_order:\n",
    "        if len(set([i[-1:] for i in hand])) == 1:\n",
    "            result = \"Royal Flush\"\n",
    "            list_of_all_results_names.append(result)\n",
    "            list_of_all_results_values.append(rankings[result])\n",
    "        else:\n",
    "            pass\n",
    "\n",
    "    #STRAIGHT FLUSH AND STRAIGHT\n",
    "\n",
    "    dict_values = {'a':1,'2':2,'3':3,'4':4,'5':5,'6':6,'7':7,'8':8,'9':9,'10':10,'J':11,'Q':12,'K':13}\n",
    "\n",
    "    values = []\n",
    "\n",
    "    for i in first_char:\n",
    "        values.append(dict_values[i])\n",
    "\n",
    "    values = sorted(values)\n",
    "    diff = [int(values[i]) - values[i-1] for i in range(1,5)]\n",
    "    average = sum(diff)/len(diff)\n",
    "\n",
    "        #STRAIGHT FLUSH\n",
    "\n",
    "    if average == 1.0 and len(set([i[-1:] for i in hand])) == 1:\n",
    "        result = \"Straigth Flush\"\n",
    "        list_of_all_results_names.append(result)\n",
    "        list_of_all_results_values.append(rankings[result])\n",
    "    else:\n",
    "        pass\n",
    "\n",
    "        #STRAIGHT\n",
    "\n",
    "    if first_char[0] in Royal_rush_values_order and first_char[1] in Royal_rush_values_order and first_char[2] in Royal_rush_values_order and first_char[3] in Royal_rush_values_order and first_char[4] in Royal_rush_values_order:\n",
    "        if len(set([i[-1:] for i in hand])) != 1 and len(unique_char) == 5 and len(set(diff)) == 1:\n",
    "            result = \"Straigth\"\n",
    "            list_of_all_results_names.append(result)\n",
    "            list_of_all_results_values.append(rankings[result])\n",
    "        else:\n",
    "            pass\n",
    "\n",
    "    elif average == 1.0 and len(set([i[-1:] for i in hand])) != 1 and len(set(diff)) == 1:\n",
    "        result = \"Straigth\"\n",
    "        list_of_all_results_names.append(result)\n",
    "        list_of_all_results_values.append(rankings[result])\n",
    "    else:\n",
    "        pass\n",
    "\n",
    "    #FLUSH\n",
    "\n",
    "    if len(set([i[-1:] for i in hand])) == 1:\n",
    "        result = \"Flush\"\n",
    "        list_of_all_results_names.append(result)\n",
    "        list_of_all_results_values.append(rankings[result])\n",
    "    else:\n",
    "        pass\n",
    "\n",
    "    #REST OF POSIBILITIES\n",
    "\n",
    "    for i in unique_char:\n",
    "        dict_hand.update({i: first_char.count(i)})\n",
    "    result = str(sorted(list(dict_hand.values()),reverse= True))\n",
    "    list_of_all_results_names.append(numbers_hands[result])\n",
    "    list_of_all_results_values.append(rankings[numbers_hands[result]])\n",
    "\n",
    "    # GET THE BEST POSSIBLE GAME\n",
    "\n",
    "    best_game = inverse_rankings[max(list_of_all_results_values)]\n",
    "    return (hand, best_game)\n",
    "\n",
    "    "
   ]
  },
  {
   "cell_type": "code",
   "execution_count": 12,
   "metadata": {},
   "outputs": [
    {
     "name": "stdout",
     "output_type": "stream",
     "text": [
      "(['7s', '3s', '6s', '5s', '4s'], 'Straigth Flush')\n",
      "(['5c', '7c', '6c', '4c', '8c'], 'Straigth Flush')\n"
     ]
    }
   ],
   "source": [
    "for i in range(1,100000):\n",
    "    a = get_best_game()\n",
    "    if a[1] == \"Straigth Flush\":\n",
    "        print(a)\n",
    "    else:\n",
    "        pass\n",
    "\n",
    "   "
   ]
  },
  {
   "cell_type": "code",
   "execution_count": 11,
   "metadata": {},
   "outputs": [
    {
     "name": "stdout",
     "output_type": "stream",
     "text": [
      "{'High Card', 'Straigth', 'Pair', 'Straigth Flush', 'Full House', 'Poker', 'Three of a Kind', 'Flush', 'Two Pair'}\n"
     ]
    },
    {
     "data": {
      "text/plain": [
       "<matplotlib.axes._subplots.AxesSubplot at 0x7fcba08a4750>"
      ]
     },
     "execution_count": 11,
     "metadata": {},
     "output_type": "execute_result"
    },
    {
     "data": {
      "image/png": "[encoded data removed]",
      "text/plain": [
       "<Figure size 432x288 with 1 Axes>"
      ]
     },
     "metadata": {
      "needs_background": "light"
     },
     "output_type": "display_data"
    }
   ],
   "source": [
    "def get_results_chart(iterations):\n",
    "    \n",
    "    import pandas as pd\n",
    "    import matplotlib.pyplot as plt\n",
    "    %matplotlib inline\n",
    "    \n",
    "    list_of_poker_results = []\n",
    "    a = 0\n",
    "    \n",
    "    while a <= iterations:\n",
    "        list_of_poker_results.append(get_best_game()[1]) \n",
    "        a += 1\n",
    "    \n",
    "    games_df = pd.DataFrame({\"Game\": list_of_poker_results})\n",
    "    print(set(list_of_poker_results))\n",
    "    dist_games = games_df[\"Game\"].value_counts()/len(games_df[\"Game\"])*100\n",
    "    return dist_games.plot(kind = \"bar\")\n",
    "    \n",
    "\n",
    "\n",
    "get_results_chart(100000)"
   ]
  },
  {
   "cell_type": "code",
   "execution_count": 431,
   "metadata": {},
   "outputs": [
    {
     "name": "stdout",
     "output_type": "stream",
     "text": [
      "[1, 3, 11, 11, 13]\n",
      "[2, 8, 0, 2]\n",
      "{8, 0, 2} 3\n"
     ]
    }
   ],
   "source": [
    "## ERRORS DETECTION\n",
    "\n",
    "error = ['Js', 'Jd', '3s', 'Ks', 'ac']\n",
    "first_char_error = [i[:-1] for i in error]\n",
    "values_error = []\n",
    "dict_values_error = {'a':1,'2':2,'3':3,'4':4,'5':5,'6':6,'7':7,'8':8,'9':9,'10':10,'J':11,'Q':12,'K':13}\n",
    "for i in first_char_error:\n",
    "        values_error.append(dict_values_error[i])\n",
    "values_error = sorted(values_error)\n",
    "diff_error = [int(values_error[i]) - values_error[i-1] for i in range(1,5)]\n",
    "print(values_error)\n",
    "print(diff_error)\n",
    "print(set(diff_error), len(set(diff_error)))"
   ]
  },
  {
   "cell_type": "code",
   "execution_count": null,
   "metadata": {},
   "outputs": [],
   "source": []
  }
 ],
 "metadata": {
  "kernelspec": {
   "display_name": "Python 3",
   "language": "python",
   "name": "python3"
  },
  "language_info": {
   "codemirror_mode": {
    "name": "ipython",
    "version": 3
   },
   "file_extension": ".py",
   "mimetype": "text/x-python",
   "name": "python",
   "nbconvert_exporter": "python",
   "pygments_lexer": "ipython3",
   "version": "3.7.4"
  }
 },
 "nbformat": 4,
 "nbformat_minor": 4
}
