{
  "nbformat": 4,
  "nbformat_minor": 0,
  "metadata": {
    "colab": {
      "name": "Number of digits challenge",
      "provenance": [],
      "collapsed_sections": []
    },
    "kernelspec": {
      "name": "python3",
      "display_name": "Python 3"
    },
    "language_info": {
      "name": "python"
    }
  },
  "cells": [
    {
      "cell_type": "markdown",
      "source": [
        "Level Expert, https://edabit.com/challenge/j9zed4GnykS48W6vh\n",
        "How Many Digits between 1 and N\n",
        "\n",
        "Imagine you took all the numbers between 0 and n and concatenated them together into a long string. How many digits are there between 0 and n? Write a function that can calculate this.\n",
        "\n",
        "There are 0 digits between 0 and 1, there are 9 digits between 0 and 10 and there are 189 digits between 0 and 100.\n",
        "\n",
        "Examples\n",
        "digits(1) ➞ 0\n",
        "\n",
        "digits(10) ➞ 9\n",
        "\n",
        "digits(100) ➞ 189\n",
        "\n",
        "digits(2020) ➞ 6969\n",
        "\n",
        "The numbers are going to be rather big so creating that string won't be practical."
      ],
      "metadata": {
        "id": "7zfD-MxLHbE7"
      }
    },
    {
      "cell_type": "code",
      "execution_count": 92,
      "metadata": {
        "id": "a6sXg7kR8v6W",
        "executionInfo": {
          "status": "ok",
          "timestamp": 1652172255902,
          "user_tz": 240,
          "elapsed": 4888,
          "user": {
            "displayName": "Javier Delgado Noriega",
            "userId": "00043261862760784847"
          }
        },
        "outputId": "1ce5676e-5a2c-4114-acce-5ab3ef18ac7f"
      },
      "outputs": [
        {
          "output_type": "execute_result",
          "data": {
            "text/plain": [
              "68888889"
            ]
          },
          "metadata": {},
          "execution_count": 92
        }
      ],
      "source": [
        "## This works for small numbers  but if we inout massive numbers wont work \n",
        "number = 10000000\n",
        "a =''.join([str(i) for i in range(1,number)])\n",
        "len(a)"
      ]
    },
    {
      "cell_type": "code",
      "source": [
        "def number_of_digits(number, get_list = False):\n",
        "\n",
        "  number = str(number)\n",
        "  if len(number) == 1:\n",
        "    values = []\n",
        "    result = int(number)-1\n",
        "    return result\n",
        "\n",
        "  else:\n",
        "\n",
        "    values = []\n",
        "    iterator = 0\n",
        "\n",
        "    while iterator <= len(number)-1:\n",
        "      if iterator == 0:\n",
        "        zeros = len(number)-1\n",
        "        decimal_scale =  int('1' + ('0' * zeros))\n",
        "        result = (int(number) - decimal_scale) * len(number)\n",
        "        values.append(result)\n",
        "        iterator += 1\n",
        "\n",
        "      else:\n",
        "        zeros = len(number)-(iterator)\n",
        "        upper = '1' + ('0' * zeros)\n",
        "        lower =  upper[:-1]\n",
        "\n",
        "        upper = int(upper)\n",
        "        lower = int(lower)\n",
        "        digits = len(str(lower))\n",
        "        result = (upper - lower) * digits\n",
        "        values.append(result)\n",
        "        iterator += 1\n",
        "  \n",
        "  if get_list == False:\n",
        "    pass\n",
        "  else:\n",
        "    print(values)\n",
        "  return(sum(values))"
      ],
      "metadata": {
        "id": "ZXTjo4u89HHc",
        "executionInfo": {
          "status": "ok",
          "timestamp": 1652172281177,
          "user_tz": 240,
          "elapsed": 53,
          "user": {
            "displayName": "Javier Delgado Noriega",
            "userId": "00043261862760784847"
          }
        }
      },
      "execution_count": 95,
      "outputs": []
    },
    {
      "cell_type": "code",
      "source": [
        "number_of_digits(300000000000000)"
      ],
      "metadata": {
        "id": "Tg7nQ_COF5jI",
        "executionInfo": {
          "status": "ok",
          "timestamp": 1652172386601,
          "user_tz": 240,
          "elapsed": 53,
          "user": {
            "displayName": "Javier Delgado Noriega",
            "userId": "00043261862760784847"
          }
        },
        "outputId": "54f4607b-c865-4bfb-bbd5-4e9915d06395"
      },
      "execution_count": 100,
      "outputs": [
        {
          "output_type": "execute_result",
          "data": {
            "text/plain": [
              "4388888888888889"
            ]
          },
          "metadata": {},
          "execution_count": 100
        }
      ]
    }
  ]
}